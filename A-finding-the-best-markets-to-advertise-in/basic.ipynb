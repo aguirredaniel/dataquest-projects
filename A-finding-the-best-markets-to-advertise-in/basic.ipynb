{
 "cells": [
  {
   "cell_type": "markdown",
   "id": "b8cdf46a",
   "metadata": {},
   "source": [
    "# A-finding-the-best-markets-to-advertise-in\n",
    "\n",
    "We're working for an an e-learning company that offers courses on programming.\n",
    "\n",
    "Most of our courses are on web and mobile development, but we also cover many other domains, like data science, game development, etc. We want to promote our product and we'd like to invest some money in advertisement. Our goal in this project is to find out the two best markets to advertise our product in."
   ]
  },
  {
   "cell_type": "markdown",
   "id": "c814a574",
   "metadata": {},
   "source": [
    "## Understanding the Data\n",
    "\n",
    "We can try to search existing data that might be relevant for our purpose. One good candidate is the data from [freeCodeCamp's 2017 New Coder Survey](https://www.freecodecamp.org/news/we-asked-20-000-people-who-they-are-and-how-theyre-learning-to-code-fff5d668969/). [freeCodeCamp](freecodecamp.org) is a free e-learning platform that offers courses on web development. \n",
    "\n",
    "The survey data is publicly available in this [GitHub repository](https://github.com/freeCodeCamp/2017-new-coder-survey)."
   ]
  },
  {
   "cell_type": "code",
   "execution_count": 1,
   "id": "21d4bdc0",
   "metadata": {},
   "outputs": [
    {
     "name": "stderr",
     "output_type": "stream",
     "text": [
      "/home/aguirredaniel/anaconda3/lib/python3.8/site-packages/IPython/core/interactiveshell.py:3165: DtypeWarning: Columns (17,62) have mixed types.Specify dtype option on import or set low_memory=False.\n",
      "  has_raised = await self.run_ast_nodes(code_ast.body, cell_name,\n"
     ]
    },
    {
     "data": {
      "text/plain": [
       "Index(['Age', 'AttendedBootcamp', 'BootcampFinish', 'BootcampLoanYesNo',\n",
       "       'BootcampName', 'BootcampRecommend', 'ChildrenNumber', 'CityPopulation',\n",
       "       'CodeEventConferences', 'CodeEventDjangoGirls',\n",
       "       ...\n",
       "       'YouTubeFCC', 'YouTubeFunFunFunction', 'YouTubeGoogleDev',\n",
       "       'YouTubeLearnCode', 'YouTubeLevelUpTuts', 'YouTubeMIT',\n",
       "       'YouTubeMozillaHacks', 'YouTubeOther', 'YouTubeSimplilearn',\n",
       "       'YouTubeTheNewBoston'],\n",
       "      dtype='object', length=136)"
      ]
     },
     "execution_count": 1,
     "metadata": {},
     "output_type": "execute_result"
    }
   ],
   "source": [
    "import pandas as pd\n",
    "surveys = pd.read_csv('2017-fCC-New-Coders-Survey-Data.csv')\n",
    "\n",
    "surveys.columns"
   ]
  },
  {
   "cell_type": "code",
   "execution_count": 2,
   "id": "329b7c34",
   "metadata": {},
   "outputs": [
    {
     "data": {
      "text/plain": [
       "(18175, 136)"
      ]
     },
     "execution_count": 2,
     "metadata": {},
     "output_type": "execute_result"
    }
   ],
   "source": [
    "surveys.shape"
   ]
  },
  {
   "cell_type": "code",
   "execution_count": 3,
   "id": "c835a853",
   "metadata": {},
   "outputs": [
    {
     "data": {
      "text/html": [
       "<div>\n",
       "<style scoped>\n",
       "    .dataframe tbody tr th:only-of-type {\n",
       "        vertical-align: middle;\n",
       "    }\n",
       "\n",
       "    .dataframe tbody tr th {\n",
       "        vertical-align: top;\n",
       "    }\n",
       "\n",
       "    .dataframe thead th {\n",
       "        text-align: right;\n",
       "    }\n",
       "</style>\n",
       "<table border=\"1\" class=\"dataframe\">\n",
       "  <thead>\n",
       "    <tr style=\"text-align: right;\">\n",
       "      <th></th>\n",
       "      <th>Age</th>\n",
       "      <th>AttendedBootcamp</th>\n",
       "      <th>BootcampFinish</th>\n",
       "      <th>BootcampLoanYesNo</th>\n",
       "      <th>BootcampName</th>\n",
       "      <th>BootcampRecommend</th>\n",
       "      <th>ChildrenNumber</th>\n",
       "      <th>CityPopulation</th>\n",
       "      <th>CodeEventConferences</th>\n",
       "      <th>CodeEventDjangoGirls</th>\n",
       "      <th>...</th>\n",
       "      <th>YouTubeFCC</th>\n",
       "      <th>YouTubeFunFunFunction</th>\n",
       "      <th>YouTubeGoogleDev</th>\n",
       "      <th>YouTubeLearnCode</th>\n",
       "      <th>YouTubeLevelUpTuts</th>\n",
       "      <th>YouTubeMIT</th>\n",
       "      <th>YouTubeMozillaHacks</th>\n",
       "      <th>YouTubeOther</th>\n",
       "      <th>YouTubeSimplilearn</th>\n",
       "      <th>YouTubeTheNewBoston</th>\n",
       "    </tr>\n",
       "  </thead>\n",
       "  <tbody>\n",
       "    <tr>\n",
       "      <th>0</th>\n",
       "      <td>27.0</td>\n",
       "      <td>0.0</td>\n",
       "      <td>NaN</td>\n",
       "      <td>NaN</td>\n",
       "      <td>NaN</td>\n",
       "      <td>NaN</td>\n",
       "      <td>NaN</td>\n",
       "      <td>more than 1 million</td>\n",
       "      <td>NaN</td>\n",
       "      <td>NaN</td>\n",
       "      <td>...</td>\n",
       "      <td>NaN</td>\n",
       "      <td>NaN</td>\n",
       "      <td>NaN</td>\n",
       "      <td>NaN</td>\n",
       "      <td>NaN</td>\n",
       "      <td>NaN</td>\n",
       "      <td>NaN</td>\n",
       "      <td>NaN</td>\n",
       "      <td>NaN</td>\n",
       "      <td>NaN</td>\n",
       "    </tr>\n",
       "    <tr>\n",
       "      <th>1</th>\n",
       "      <td>34.0</td>\n",
       "      <td>0.0</td>\n",
       "      <td>NaN</td>\n",
       "      <td>NaN</td>\n",
       "      <td>NaN</td>\n",
       "      <td>NaN</td>\n",
       "      <td>NaN</td>\n",
       "      <td>less than 100,000</td>\n",
       "      <td>NaN</td>\n",
       "      <td>NaN</td>\n",
       "      <td>...</td>\n",
       "      <td>1.0</td>\n",
       "      <td>NaN</td>\n",
       "      <td>NaN</td>\n",
       "      <td>NaN</td>\n",
       "      <td>NaN</td>\n",
       "      <td>NaN</td>\n",
       "      <td>NaN</td>\n",
       "      <td>NaN</td>\n",
       "      <td>NaN</td>\n",
       "      <td>NaN</td>\n",
       "    </tr>\n",
       "    <tr>\n",
       "      <th>2</th>\n",
       "      <td>21.0</td>\n",
       "      <td>0.0</td>\n",
       "      <td>NaN</td>\n",
       "      <td>NaN</td>\n",
       "      <td>NaN</td>\n",
       "      <td>NaN</td>\n",
       "      <td>NaN</td>\n",
       "      <td>more than 1 million</td>\n",
       "      <td>NaN</td>\n",
       "      <td>NaN</td>\n",
       "      <td>...</td>\n",
       "      <td>NaN</td>\n",
       "      <td>NaN</td>\n",
       "      <td>NaN</td>\n",
       "      <td>1.0</td>\n",
       "      <td>1.0</td>\n",
       "      <td>NaN</td>\n",
       "      <td>NaN</td>\n",
       "      <td>NaN</td>\n",
       "      <td>NaN</td>\n",
       "      <td>NaN</td>\n",
       "    </tr>\n",
       "    <tr>\n",
       "      <th>3</th>\n",
       "      <td>26.0</td>\n",
       "      <td>0.0</td>\n",
       "      <td>NaN</td>\n",
       "      <td>NaN</td>\n",
       "      <td>NaN</td>\n",
       "      <td>NaN</td>\n",
       "      <td>NaN</td>\n",
       "      <td>between 100,000 and 1 million</td>\n",
       "      <td>NaN</td>\n",
       "      <td>NaN</td>\n",
       "      <td>...</td>\n",
       "      <td>1.0</td>\n",
       "      <td>1.0</td>\n",
       "      <td>NaN</td>\n",
       "      <td>NaN</td>\n",
       "      <td>1.0</td>\n",
       "      <td>NaN</td>\n",
       "      <td>NaN</td>\n",
       "      <td>NaN</td>\n",
       "      <td>NaN</td>\n",
       "      <td>NaN</td>\n",
       "    </tr>\n",
       "    <tr>\n",
       "      <th>4</th>\n",
       "      <td>20.0</td>\n",
       "      <td>0.0</td>\n",
       "      <td>NaN</td>\n",
       "      <td>NaN</td>\n",
       "      <td>NaN</td>\n",
       "      <td>NaN</td>\n",
       "      <td>NaN</td>\n",
       "      <td>between 100,000 and 1 million</td>\n",
       "      <td>NaN</td>\n",
       "      <td>NaN</td>\n",
       "      <td>...</td>\n",
       "      <td>NaN</td>\n",
       "      <td>NaN</td>\n",
       "      <td>NaN</td>\n",
       "      <td>NaN</td>\n",
       "      <td>NaN</td>\n",
       "      <td>NaN</td>\n",
       "      <td>NaN</td>\n",
       "      <td>NaN</td>\n",
       "      <td>NaN</td>\n",
       "      <td>NaN</td>\n",
       "    </tr>\n",
       "  </tbody>\n",
       "</table>\n",
       "<p>5 rows × 136 columns</p>\n",
       "</div>"
      ],
      "text/plain": [
       "    Age  AttendedBootcamp  BootcampFinish  BootcampLoanYesNo BootcampName  \\\n",
       "0  27.0               0.0             NaN                NaN          NaN   \n",
       "1  34.0               0.0             NaN                NaN          NaN   \n",
       "2  21.0               0.0             NaN                NaN          NaN   \n",
       "3  26.0               0.0             NaN                NaN          NaN   \n",
       "4  20.0               0.0             NaN                NaN          NaN   \n",
       "\n",
       "   BootcampRecommend  ChildrenNumber                 CityPopulation  \\\n",
       "0                NaN             NaN            more than 1 million   \n",
       "1                NaN             NaN              less than 100,000   \n",
       "2                NaN             NaN            more than 1 million   \n",
       "3                NaN             NaN  between 100,000 and 1 million   \n",
       "4                NaN             NaN  between 100,000 and 1 million   \n",
       "\n",
       "   CodeEventConferences  CodeEventDjangoGirls  ...  YouTubeFCC  \\\n",
       "0                   NaN                   NaN  ...         NaN   \n",
       "1                   NaN                   NaN  ...         1.0   \n",
       "2                   NaN                   NaN  ...         NaN   \n",
       "3                   NaN                   NaN  ...         1.0   \n",
       "4                   NaN                   NaN  ...         NaN   \n",
       "\n",
       "   YouTubeFunFunFunction  YouTubeGoogleDev  YouTubeLearnCode  \\\n",
       "0                    NaN               NaN               NaN   \n",
       "1                    NaN               NaN               NaN   \n",
       "2                    NaN               NaN               1.0   \n",
       "3                    1.0               NaN               NaN   \n",
       "4                    NaN               NaN               NaN   \n",
       "\n",
       "   YouTubeLevelUpTuts  YouTubeMIT  YouTubeMozillaHacks YouTubeOther  \\\n",
       "0                 NaN         NaN                  NaN          NaN   \n",
       "1                 NaN         NaN                  NaN          NaN   \n",
       "2                 1.0         NaN                  NaN          NaN   \n",
       "3                 1.0         NaN                  NaN          NaN   \n",
       "4                 NaN         NaN                  NaN          NaN   \n",
       "\n",
       "   YouTubeSimplilearn  YouTubeTheNewBoston  \n",
       "0                 NaN                  NaN  \n",
       "1                 NaN                  NaN  \n",
       "2                 NaN                  NaN  \n",
       "3                 NaN                  NaN  \n",
       "4                 NaN                  NaN  \n",
       "\n",
       "[5 rows x 136 columns]"
      ]
     },
     "execution_count": 3,
     "metadata": {},
     "output_type": "execute_result"
    }
   ],
   "source": [
    "surveys.head()"
   ]
  },
  {
   "cell_type": "markdown",
   "id": "9a95dcab",
   "metadata": {},
   "source": [
    "##  Checking for Sample Representativity\n",
    "\n",
    "Before starting to analyze the sample data we have, we need to clarify whether it's representative for our population of interest and it has the right categories of people for our purpose.\n",
    "\n",
    "- Are people interested in only one subject or they can be interested in more than one subject?\n",
    "- If most people are interested in more than one subject, is this sample still representative?\n",
    "- The focus of our courses is on web and mobile development. How many people are interested in at least one of these two subjects?"
   ]
  },
  {
   "cell_type": "code",
   "execution_count": 4,
   "id": "9d56f0c5",
   "metadata": {},
   "outputs": [
    {
     "data": {
      "text/plain": [
       "Full-Stack Web Developer                                                                                                                                               11.770595\n",
       "  Front-End Web Developer                                                                                                                                               6.435927\n",
       "  Data Scientist                                                                                                                                                        2.173913\n",
       "Back-End Web Developer                                                                                                                                                  2.030892\n",
       "  Mobile Developer                                                                                                                                                      1.673341\n",
       "                                                                                                                                                                         ...    \n",
       "  User Experience Designer, This futurist's dream of using some tech in a way that inspires critical amounts of people to influence the changes we need to protect      0.014302\n",
       "  DevOps / SysAdmin, Full-Stack Web Developer, Information Security,   Front-End Web Developer                                                                          0.014302\n",
       "Game Developer,   Front-End Web Developer, Information Security, Full-Stack Web Developer, Data Engineer                                                                0.014302\n",
       "  DevOps / SysAdmin,   Front-End Web Developer, Back-End Web Developer, Information Security, Full-Stack Web Developer                                                  0.014302\n",
       "  Front-End Web Developer,   User Experience Designer, Game Developer,   Mobile Developer,   Data Scientist,   Quality Assurance Engineer, Back-End Web Developer       0.014302\n",
       "Name: JobRoleInterest, Length: 3213, dtype: float64"
      ]
     },
     "execution_count": 4,
     "metadata": {},
     "output_type": "execute_result"
    }
   ],
   "source": [
    "# import matplotlib.pyplot as plt\n",
    "# %matplotlib inline\n",
    "jobs = surveys['JobRoleInterest'].value_counts(normalize=True) * 100\n",
    "jobs"
   ]
  },
  {
   "cell_type": "code",
   "execution_count": 5,
   "id": "6b99978f",
   "metadata": {},
   "outputs": [
    {
     "data": {
      "text/plain": [
       "68.34954233409611"
      ]
     },
     "execution_count": 5,
     "metadata": {},
     "output_type": "execute_result"
    }
   ],
   "source": [
    "multiple_jobs = jobs[jobs.index.str.contains(',', na=False)]\n",
    "multiple_jobs.sum()"
   ]
  },
  {
   "cell_type": "markdown",
   "id": "84a1cdcb",
   "metadata": {},
   "source": [
    "- We can see 68% of people are interested in more the one topic"
   ]
  },
  {
   "cell_type": "code",
   "execution_count": 6,
   "id": "c22d019f",
   "metadata": {},
   "outputs": [
    {
     "data": {
      "text/plain": [
       "(86.3129290617849, 13.6870709382151)"
      ]
     },
     "execution_count": 6,
     "metadata": {},
     "output_type": "execute_result"
    }
   ],
   "source": [
    "web_or_mobile = jobs[jobs.index.str.contains('web|mobile', case=False)].sum()\n",
    "others = 100 - web_or_mobile\n",
    "web_or_mobile, others"
   ]
  },
  {
   "cell_type": "code",
   "execution_count": 7,
   "id": "f669ac10",
   "metadata": {},
   "outputs": [
    {
     "data": {
      "image/png": "[encoded data removed]",
      "text/plain": [
       "<Figure size 432x288 with 1 Axes>"
      ]
     },
     "metadata": {},
     "output_type": "display_data"
    }
   ],
   "source": [
    "%matplotlib inline\n",
    "import matplotlib.pyplot as plt\n",
    "plt.style.use('fivethirtyeight')\n",
    "\n",
    "columns = ['Web or Mobile', 'Others']\n",
    "plt.bar(columns, [web_or_mobile, others])\n",
    "plt.ylim((0,100))\n",
    "plt.ylabel('Percentage')\n",
    "plt.title('People are interest in \\n web or mobile develomet', y = 1.08)\n",
    "plt.show()"
   ]
  },
  {
   "cell_type": "markdown",
   "id": "b0e80686",
   "metadata": {},
   "source": [
    "We can see 86% of people are interested in web or mobile develiment."
   ]
  },
  {
   "cell_type": "markdown",
   "id": "68b5c0c9",
   "metadata": {},
   "source": [
    "## New Coders - Locations and Densities"
   ]
  },
  {
   "cell_type": "markdown",
   "id": "10a782b1",
   "metadata": {},
   "source": [
    "For our analysis, we'll work with the `CountryLive` variable because we're interested where people actually live at the moment when we run the ads. "
   ]
  },
  {
   "cell_type": "markdown",
   "id": "d2a6e750",
   "metadata": {},
   "source": [
    "To make sure you're working with a representative sample, drop all the rows where participants didn't answer what role they are interested in"
   ]
  },
  {
   "cell_type": "code",
   "execution_count": 8,
   "id": "71d19731",
   "metadata": {},
   "outputs": [],
   "source": [
    "surveys.dropna(subset=['JobRoleInterest'], inplace=True)"
   ]
  },
  {
   "cell_type": "code",
   "execution_count": 9,
   "id": "ccf9cb77",
   "metadata": {},
   "outputs": [
    {
     "data": {
      "text/plain": [
       "United States of America    3125\n",
       "India                        528\n",
       "United Kingdom               315\n",
       "Canada                       260\n",
       "Poland                       131\n",
       "                            ... \n",
       "Liberia                        1\n",
       "Cayman Islands                 1\n",
       "Gibraltar                      1\n",
       "Gambia                         1\n",
       "Somalia                        1\n",
       "Name: CountryLive, Length: 137, dtype: int64"
      ]
     },
     "execution_count": 9,
     "metadata": {},
     "output_type": "execute_result"
    }
   ],
   "source": [
    "surveys['CountryLive'].value_counts()"
   ]
  },
  {
   "cell_type": "code",
   "execution_count": 10,
   "id": "391501ab",
   "metadata": {},
   "outputs": [
    {
     "data": {
      "text/plain": [
       "United States of America    45.700497\n",
       "India                        7.721556\n",
       "United Kingdom               4.606610\n",
       "Canada                       3.802281\n",
       "Poland                       1.915765\n",
       "                              ...    \n",
       "Liberia                      0.014624\n",
       "Cayman Islands               0.014624\n",
       "Gibraltar                    0.014624\n",
       "Gambia                       0.014624\n",
       "Somalia                      0.014624\n",
       "Name: CountryLive, Length: 137, dtype: float64"
      ]
     },
     "execution_count": 10,
     "metadata": {},
     "output_type": "execute_result"
    }
   ],
   "source": [
    "surveys['CountryLive'].value_counts(normalize=True) * 100"
   ]
  },
  {
   "cell_type": "markdown",
   "id": "fa64c1f5",
   "metadata": {},
   "source": [
    "The majority (46%) of our potential clients are located in the United States of America."
   ]
  },
  {
   "cell_type": "markdown",
   "id": "e6ae7611",
   "metadata": {},
   "source": [
    "## Spending Money for Learning\n",
    "\n",
    "The MoneyForLearning column describes in American dollars the amount of money spent by participants from the moment they started coding until the moment they completed the survey. Our company sells subscriptions at a price of $59 per month, and for this reason we're interested in finding out how much money each student spends per month.\n",
    "\n",
    "It also seems like a good idea to narrow down our analysis to only four countries: the US, India, the United Kingdom, and Canada. Two reasons for this decision are:\n",
    "\n",
    "- These are the countries having the highest absolute frequencies in our sample, which means we have a decent amount of data for each.\n",
    "- Our courses are written in English, and English is an official language in all these four countries. The more people that know English, the better our chances to target the right people with our ads."
   ]
  },
  {
   "cell_type": "markdown",
   "id": "0be7848e",
   "metadata": {},
   "source": [
    "We'll create a new column that describes the amount of money a student has spent per month. \n",
    "\n",
    "*Note: Some students answered that they had been learning to code for 0 months.*"
   ]
  },
  {
   "cell_type": "code",
   "execution_count": 11,
   "id": "08b6407e",
   "metadata": {},
   "outputs": [
    {
     "data": {
      "text/html": [
       "<div>\n",
       "<style scoped>\n",
       "    .dataframe tbody tr th:only-of-type {\n",
       "        vertical-align: middle;\n",
       "    }\n",
       "\n",
       "    .dataframe tbody tr th {\n",
       "        vertical-align: top;\n",
       "    }\n",
       "\n",
       "    .dataframe thead th {\n",
       "        text-align: right;\n",
       "    }\n",
       "</style>\n",
       "<table border=\"1\" class=\"dataframe\">\n",
       "  <thead>\n",
       "    <tr style=\"text-align: right;\">\n",
       "      <th></th>\n",
       "      <th>Spent_Month</th>\n",
       "      <th>MoneyForLearning</th>\n",
       "      <th>MonthsProgramming</th>\n",
       "    </tr>\n",
       "  </thead>\n",
       "  <tbody>\n",
       "    <tr>\n",
       "      <th>1</th>\n",
       "      <td>13.333333</td>\n",
       "      <td>80.0</td>\n",
       "      <td>6.0</td>\n",
       "    </tr>\n",
       "    <tr>\n",
       "      <th>2</th>\n",
       "      <td>200.000000</td>\n",
       "      <td>1000.0</td>\n",
       "      <td>5.0</td>\n",
       "    </tr>\n",
       "    <tr>\n",
       "      <th>3</th>\n",
       "      <td>0.000000</td>\n",
       "      <td>0.0</td>\n",
       "      <td>5.0</td>\n",
       "    </tr>\n",
       "    <tr>\n",
       "      <th>4</th>\n",
       "      <td>0.000000</td>\n",
       "      <td>0.0</td>\n",
       "      <td>24.0</td>\n",
       "    </tr>\n",
       "    <tr>\n",
       "      <th>6</th>\n",
       "      <td>0.000000</td>\n",
       "      <td>0.0</td>\n",
       "      <td>12.0</td>\n",
       "    </tr>\n",
       "    <tr>\n",
       "      <th>...</th>\n",
       "      <td>...</td>\n",
       "      <td>...</td>\n",
       "      <td>...</td>\n",
       "    </tr>\n",
       "    <tr>\n",
       "      <th>18161</th>\n",
       "      <td>0.000000</td>\n",
       "      <td>0.0</td>\n",
       "      <td>6.0</td>\n",
       "    </tr>\n",
       "    <tr>\n",
       "      <th>18162</th>\n",
       "      <td>0.000000</td>\n",
       "      <td>0.0</td>\n",
       "      <td>84.0</td>\n",
       "    </tr>\n",
       "    <tr>\n",
       "      <th>18163</th>\n",
       "      <td>NaN</td>\n",
       "      <td>0.0</td>\n",
       "      <td>NaN</td>\n",
       "    </tr>\n",
       "    <tr>\n",
       "      <th>18171</th>\n",
       "      <td>10000.000000</td>\n",
       "      <td>10000.0</td>\n",
       "      <td>1.0</td>\n",
       "    </tr>\n",
       "    <tr>\n",
       "      <th>18174</th>\n",
       "      <td>NaN</td>\n",
       "      <td>NaN</td>\n",
       "      <td>10.0</td>\n",
       "    </tr>\n",
       "  </tbody>\n",
       "</table>\n",
       "<p>6992 rows × 3 columns</p>\n",
       "</div>"
      ],
      "text/plain": [
       "        Spent_Month  MoneyForLearning  MonthsProgramming\n",
       "1         13.333333              80.0                6.0\n",
       "2        200.000000            1000.0                5.0\n",
       "3          0.000000               0.0                5.0\n",
       "4          0.000000               0.0               24.0\n",
       "6          0.000000               0.0               12.0\n",
       "...             ...               ...                ...\n",
       "18161      0.000000               0.0                6.0\n",
       "18162      0.000000               0.0               84.0\n",
       "18163           NaN               0.0                NaN\n",
       "18171  10000.000000           10000.0                1.0\n",
       "18174           NaN               NaN               10.0\n",
       "\n",
       "[6992 rows x 3 columns]"
      ]
     },
     "execution_count": 11,
     "metadata": {},
     "output_type": "execute_result"
    }
   ],
   "source": [
    "surveys['MonthsProgramming'] = surveys['MonthsProgramming'].apply(lambda m: m or 1)\n",
    "surveys['Spent_Month'] = surveys['MoneyForLearning'] / surveys['MonthsProgramming']\n",
    "\n",
    "surveys[['Spent_Month', 'MoneyForLearning', 'MonthsProgramming']]"
   ]
  },
  {
   "cell_type": "markdown",
   "id": "6306b7be",
   "metadata": {},
   "source": [
    "We'll keep only the rows that don't have a null value for the new column and also any rows that have null values in the `CountryLive` column.\n"
   ]
  },
  {
   "cell_type": "code",
   "execution_count": 12,
   "id": "5c8f0f53",
   "metadata": {},
   "outputs": [],
   "source": [
    "surveys.dropna(subset=['Spent_Month', 'CountryLive'], inplace=True)"
   ]
  },
  {
   "cell_type": "markdown",
   "id": "3f047746",
   "metadata": {},
   "source": [
    "We'll find out how much money a student spends on average each month in the US, India, the United Kingdom and Canada."
   ]
  },
  {
   "cell_type": "code",
   "execution_count": 13,
   "id": "0752ffc9",
   "metadata": {},
   "outputs": [
    {
     "data": {
      "text/plain": [
       "CountryLive\n",
       "United States of America    227.997996\n",
       "India                       135.100982\n",
       "United Kingdom               45.534443\n",
       "Canada                      113.510961\n",
       "Name: Spent_Month, dtype: float64"
      ]
     },
     "execution_count": 13,
     "metadata": {},
     "output_type": "execute_result"
    }
   ],
   "source": [
    "countries_spent = surveys.groupby('CountryLive').mean()\n",
    "countries_spent['Spent_Month'][\n",
    "    ['United States of America','India','United Kingdom','Canada']]"
   ]
  },
  {
   "cell_type": "markdown",
   "id": "9dd621cc",
   "metadata": {},
   "source": [
    "We can see that only in the United Kingdom not enough is spent on learning to pay the cost of our subscriptions. In the other countries more than double the cost of our subscriptions is spent. "
   ]
  },
  {
   "cell_type": "markdown",
   "id": "bf98baa2",
   "metadata": {},
   "source": [
    "## Dealing with Extreme Outliers\n",
    "\n",
    "The results for the United Kingdom and Canada are surprisingly low relative to the values we see for India. If we considered a few socio-economical metrics (like GDP per capita), we'd intuitively expect people in the UK and Canada to spend more on learning than people in India."
   ]
  },
  {
   "cell_type": "code",
   "execution_count": 14,
   "id": "9ac921f0",
   "metadata": {},
   "outputs": [
    {
     "data": {
      "image/png": "[encoded data removed]",
      "text/plain": [
       "<Figure size 432x288 with 1 Axes>"
      ]
     },
     "metadata": {},
     "output_type": "display_data"
    }
   ],
   "source": [
    "data = [\n",
    "    surveys[surveys['CountryLive'] == c]['Spent_Month']\n",
    "    for c in ['United States of America','India','United Kingdom','Canada']\n",
    "]\n",
    "plt.title('Money spent in learning \\nin a month by country')\n",
    "plt.boxplot(data, labels=['US','India', 'UK', 'Canda'])\n",
    "plt.show()"
   ]
  },
  {
   "cell_type": "markdown",
   "id": "b742bd9a",
   "metadata": {},
   "source": [
    "We can observe some outliers in US, India and Canda."
   ]
  },
  {
   "cell_type": "markdown",
   "id": "dba99783",
   "metadata": {},
   "source": [
    "For US we can start eliminating the values greater than $20,000.00."
   ]
  },
  {
   "cell_type": "code",
   "execution_count": 15,
   "id": "3608c353",
   "metadata": {},
   "outputs": [],
   "source": [
    "us_outliers = surveys[(surveys['CountryLive'] == 'United States of America') \n",
    "                               & (surveys['Spent_Month'] >= 20000)]\n",
    "surveys = surveys.drop(us_outliers.index)"
   ]
  },
  {
   "cell_type": "code",
   "execution_count": 16,
   "id": "6f07d15b",
   "metadata": {},
   "outputs": [
    {
     "data": {
      "image/png": "[encoded data removed]",
      "text/plain": [
       "<Figure size 432x288 with 1 Axes>"
      ]
     },
     "metadata": {},
     "output_type": "display_data"
    }
   ],
   "source": [
    "surveys[surveys['CountryLive'] == 'United States of America']['Spent_Month'].plot.box()\n",
    "plt.show()"
   ]
  },
  {
   "cell_type": "markdown",
   "id": "f0809a0e",
   "metadata": {},
   "source": [
    "We can see that in the USA there are more outliers. We can think that values greater than $ 7,000.00 could be an exaggeration. We'll go to remove these values."
   ]
  },
  {
   "cell_type": "code",
   "execution_count": 17,
   "id": "7719ce29",
   "metadata": {},
   "outputs": [],
   "source": [
    "us_outliers = surveys[(surveys['CountryLive'] == 'United States of America') \n",
    "                               & (surveys['Spent_Month'] >= 7000)]\n",
    "surveys = surveys.drop(us_outliers.index)"
   ]
  },
  {
   "cell_type": "code",
   "execution_count": 18,
   "id": "ea806968",
   "metadata": {},
   "outputs": [
    {
     "data": {
      "image/png": "[encoded data removed]",
      "text/plain": [
       "<Figure size 432x288 with 2 Axes>"
      ]
     },
     "metadata": {},
     "output_type": "display_data"
    }
   ],
   "source": [
    "fig, axs = plt.subplots(1,2, sharey=True)\n",
    "for c, ax in zip(['India', 'Canada'], axs):\n",
    "    ax.boxplot(surveys[surveys['CountryLive'] == c]['Spent_Month'])\n",
    "    ax.set_title(c)\n",
    "plt.show()"
   ]
  },
  {
   "cell_type": "markdown",
   "id": "e76d7d56",
   "metadata": {},
   "source": [
    "For India and Canda we can eliminate values greater than $ 2,500.00. "
   ]
  },
  {
   "cell_type": "code",
   "execution_count": 19,
   "id": "e19187ec",
   "metadata": {},
   "outputs": [],
   "source": [
    "india_canda_outliers = surveys[(surveys['CountryLive'].str.contains('India|Canada')) \n",
    "                               & (surveys['Spent_Month'] >= 2500)]\n",
    "surveys = surveys.drop(india_canda_outliers.index)"
   ]
  },
  {
   "cell_type": "code",
   "execution_count": 20,
   "id": "81b3f302",
   "metadata": {},
   "outputs": [
    {
     "data": {
      "image/png": "[encoded data removed]",
      "text/plain": [
       "<Figure size 432x288 with 2 Axes>"
      ]
     },
     "metadata": {},
     "output_type": "display_data"
    }
   ],
   "source": [
    "fig, axs = plt.subplots(1,2, sharey=True)\n",
    "for c, ax in zip(['India', 'Canada'], axs):\n",
    "    ax.boxplot(surveys[surveys['CountryLive'] == c]['Spent_Month'])\n",
    "    ax.set_title(c)\n",
    "plt.show()"
   ]
  },
  {
   "cell_type": "code",
   "execution_count": 21,
   "id": "97a2181b",
   "metadata": {},
   "outputs": [
    {
     "data": {
      "text/plain": [
       "CountryLive\n",
       "United States of America    147.063012\n",
       "India                        65.758763\n",
       "United Kingdom               45.534443\n",
       "Canada                       93.065400\n",
       "Name: Spent_Month, dtype: float64"
      ]
     },
     "execution_count": 21,
     "metadata": {},
     "output_type": "execute_result"
    }
   ],
   "source": [
    "countries_spent = surveys.groupby('CountryLive').mean()\n",
    "countries_spent['Spent_Month'][\n",
    "    ['United States of America','India','United Kingdom','Canada']]"
   ]
  },
  {
   "cell_type": "markdown",
   "id": "cf6d4a3c",
   "metadata": {},
   "source": [
    "Once we have removed the outliers from your data, it is it clear the US and Canada are the two best countries to choose for advertisement."
   ]
  },
  {
   "cell_type": "markdown",
   "id": "b767e071",
   "metadata": {},
   "source": [
    "## Choosing the Two Best Markets\n",
    "\n",
    "Considering the results we've found so far, one country we should definitely advertise in is the US. There are a lot of new coders living there and they are willing to pay a good amount of money each month."
   ]
  },
  {
   "cell_type": "markdown",
   "id": "f58497da",
   "metadata": {},
   "source": [
    "Another possible country could be Canada, it only has only 3 percent of people interested in learning about web or mobile development, but on average people spend more to learn. Another venice is that it is a neighboring country of the US unlike India which could also be a profitable country. "
   ]
  }
 ],
 "metadata": {
  "kernelspec": {
   "display_name": "Python 3",
   "language": "python",
   "name": "python3"
  },
  "language_info": {
   "codemirror_mode": {
    "name": "ipython",
    "version": 3
   },
   "file_extension": ".py",
   "mimetype": "text/x-python",
   "name": "python",
   "nbconvert_exporter": "python",
   "pygments_lexer": "ipython3",
   "version": "3.8.8"
  }
 },
 "nbformat": 4,
 "nbformat_minor": 5
}
