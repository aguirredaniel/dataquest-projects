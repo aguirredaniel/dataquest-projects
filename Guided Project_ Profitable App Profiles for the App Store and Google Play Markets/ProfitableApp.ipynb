{
 "cells": [
  {
   "cell_type": "markdown",
   "metadata": {},
   "source": [
    "# Profitable App Profiles for the App Store and Google Play Markets\n",
    "\n",
    "\n",
    "We'll pretend we're working as data analysts for a company that builds Android and iOS mobile apps. We make our apps available on Google Play and the App Store.\n",
    "\n",
    "Company only build apps that are free to download and install, and their main source of revenue consists of in-app ads.\n",
    "\n",
    "We'll analyze the existing **data about mobile apps** availabel on Google Pay and App Store to discover what type of apps attract more users.\n",
    "\n",
    "We'll focus in find he **Genre** of the app to be developed.\n",
    "\n",
    "To find this we need to know:\n",
    "- Which Genre has more apps developed\n",
    "- Which Genre has more apps installed\n"
   ]
  },
  {
   "cell_type": "markdown",
   "metadata": {},
   "source": [
    "## Exploring dataset\n",
    "\n",
    "As of September 2018, there were approximately 2 million iOS apps available on the App Store, and 2.1 million Android apps on Google Play.\n",
    "\n",
    "Source: [Statista](https://www.statista.com/statistics/276623/number-of-apps-available-in-leading-app-stores/)\n",
    "\n",
    "\n",
    "These are two data sets that seem suitable for our goals:\n",
    "- [A data set](https://www.kaggle.com/lava18/google-play-store-apps) containing data about approximately 10,000 Android apps from Google Play; the data was collected in August 2018. You can download the data set directly from this [link](https://dq-content.s3.amazonaws.com/350/googleplaystore.csv).\n",
    "- [A data set](https://www.kaggle.com/ramamet4/app-store-apple-data-set-10k-apps) containing data about approximately 7,000 iOS apps from the App Store; the data was collected in July 2017. You can download the data set directly from this [link](https://dq-content.s3.amazonaws.com/350/AppleStore.csv)."
   ]
  },
  {
   "cell_type": "markdown",
   "metadata": {},
   "source": [
    "We make a helper function to open the two datasets."
   ]
  },
  {
   "cell_type": "code",
   "execution_count": 1,
   "metadata": {},
   "outputs": [],
   "source": [
    "# Open a .csv file and returns as list of list\n",
    "def open_data_set(file_name, encoding=None):\n",
    "    with open(file_name, encoding=encoding) as file:\n",
    "        from csv import reader\n",
    "        file_reader = reader(file)\n",
    "        \n",
    "        # Make file reader in list of list     \n",
    "        dataset = list(file_reader)\n",
    "        return dataset"
   ]
  },
  {
   "cell_type": "code",
   "execution_count": 2,
   "metadata": {},
   "outputs": [],
   "source": [
    "ios_full = open_data_set('AppleStore.csv')\n",
    "android_full =open_data_set('googleplaystore.csv')"
   ]
  },
  {
   "cell_type": "markdown",
   "metadata": {},
   "source": [
    "We make a function to start exploring the datasets, explore data print a slice of data set and conditionally print information of the data set, like number of row and number of columns."
   ]
  },
  {
   "cell_type": "code",
   "execution_count": 3,
   "metadata": {},
   "outputs": [],
   "source": [
    "# Params\n",
    "# data_set: list of list\n",
    "# start: int end: int, represnet indices of slice from data set\n",
    "# rows_and_columns: bool, condition to print extra info\n",
    "def explore_data(data_set, start, end, rows_and_columns=False):\n",
    "    for row in data_set[start:end]:\n",
    "        print(row)\n",
    "        print('\\n')\n",
    "\n",
    "    \n",
    "    if rows_and_columns:\n",
    "        print(f'Number of rows {len(data_set)}')\n",
    "        print(f'Number of columns {len(data_set[0])}')"
   ]
  },
  {
   "cell_type": "code",
   "execution_count": 4,
   "metadata": {},
   "outputs": [
    {
     "name": "stdout",
     "output_type": "stream",
     "text": [
      "iOS\n",
      "['id', 'track_name', 'size_bytes', 'currency', 'price', 'rating_count_tot', 'rating_count_ver', 'user_rating', 'user_rating_ver', 'ver', 'cont_rating', 'prime_genre', 'sup_devices.num', 'ipadSc_urls.num', 'lang.num', 'vpp_lic']\n",
      "\n",
      "\n",
      "['284882215', 'Facebook', '389879808', 'USD', '0.0', '2974676', '212', '3.5', '3.5', '95.0', '4+', 'Social Networking', '37', '1', '29', '1']\n",
      "\n",
      "\n",
      "['389801252', 'Instagram', '113954816', 'USD', '0.0', '2161558', '1289', '4.5', '4.0', '10.23', '12+', 'Photo & Video', '37', '0', '29', '1']\n",
      "\n",
      "\n",
      "Number of rows 7198\n",
      "Number of columns 16\n",
      "\n",
      "\n",
      "Android.\n",
      "['App', 'Category', 'Rating', 'Reviews', 'Size', 'Installs', 'Type', 'Price', 'Content Rating', 'Genres', 'Last Updated', 'Current Ver', 'Android Ver']\n",
      "\n",
      "\n",
      "['Photo Editor & Candy Camera & Grid & ScrapBook', 'ART_AND_DESIGN', '4.1', '159', '19M', '10,000+', 'Free', '0', 'Everyone', 'Art & Design', 'January 7, 2018', '1.0.0', '4.0.3 and up']\n",
      "\n",
      "\n",
      "['Coloring book moana', 'ART_AND_DESIGN', '3.9', '967', '14M', '500,000+', 'Free', '0', 'Everyone', 'Art & Design;Pretend Play', 'January 15, 2018', '2.0.0', '4.0.3 and up']\n",
      "\n",
      "\n",
      "Number of rows 10842\n",
      "Number of columns 13\n"
     ]
    }
   ],
   "source": [
    "print('iOS')\n",
    "explore_data(ios_full, 0, 3, True)\n",
    "print('\\n')\n",
    "print('Android.')\n",
    "explore_data(android_full, 0, 3, True)"
   ]
  },
  {
   "cell_type": "markdown",
   "metadata": {},
   "source": [
    "## Deleting inconsistent data\n",
    "\n",
    "The Google Play data set has a dedicated [discussion section](https://www.kaggle.com/lava18/google-play-store-apps/discussion), and we can see that one of the discussions outlines an error for row 10472. \n",
    "\n",
    "We make a function that compares the header with all the other rows to check if it has inconsistent information."
   ]
  },
  {
   "cell_type": "code",
   "execution_count": 5,
   "metadata": {},
   "outputs": [],
   "source": [
    "#The dataset needs to have a header in the first row.\n",
    "# Returns list of indices of rows with in inconsistent data.\n",
    "def find_rows_with_missing_data(data_set):\n",
    "    header = data_set[0]\n",
    "    header_len = len(header)\n",
    "    row_indexs = []\n",
    "    index = 1\n",
    "    for row in data_set[1:]:\n",
    "        # If the len of row is different of len of heder \n",
    "        # is including in returning list    \n",
    "        if len(row) != header_len: \n",
    "            row_indexs.append(index)\n",
    "        index += 1\n",
    "    return row_indexs"
   ]
  },
  {
   "cell_type": "code",
   "execution_count": 6,
   "metadata": {},
   "outputs": [
    {
     "name": "stdout",
     "output_type": "stream",
     "text": [
      "row: 10473, data: ['Life Made WI-Fi Touchscreen Photo Frame', '1.9', '19', '3.0M', '1,000+', 'Free', '0', 'Everyone', '', 'February 11, 2018', '1.0.19', '4.0 and up'] \n",
      "\n"
     ]
    }
   ],
   "source": [
    "android_missing_data = find_rows_with_missing_data(android_full)\n",
    "# Checking if there are more rows with inconsistent information\n",
    "for row in android_missing_data:\n",
    "    print(f'row: {row}, data: {android_full[row]}', '\\n')"
   ]
  },
  {
   "cell_type": "markdown",
   "metadata": {},
   "source": [
    "We'll use the `del` statement to remove rows inconsistent data."
   ]
  },
  {
   "cell_type": "code",
   "execution_count": 37,
   "metadata": {},
   "outputs": [],
   "source": [
    "# We'll iterate and delte the rows that we find with inconsistent data\n",
    "for row in android_missing_data:\n",
    "        del android_full[row]"
   ]
  },
  {
   "cell_type": "markdown",
   "metadata": {},
   "source": [
    "For readable in code, each time we modify any of the datasets, we will reassign them to the andorid or ios variables as appropriate.\n",
    "\n",
    "We'll to copy the full data sets without header."
   ]
  },
  {
   "cell_type": "code",
   "execution_count": 8,
   "metadata": {},
   "outputs": [],
   "source": [
    "android = android_full[1:]\n",
    "ios = ios_full[1:]"
   ]
  },
  {
   "cell_type": "markdown",
   "metadata": {},
   "source": [
    "## Removing duplicate data\n",
    "\n",
    "If you explore the Google Play data set long enough or look at the [discussions](https://www.kaggle.com/lava18/google-play-store-apps/discussion) section, you'll notice some apps have duplicate entries."
   ]
  },
  {
   "cell_type": "markdown",
   "metadata": {},
   "source": [
    "We'll make a function to find duplicates rows comparing an specific cell value."
   ]
  },
  {
   "cell_type": "code",
   "execution_count": 9,
   "metadata": {},
   "outputs": [],
   "source": [
    "def find_duplicates_values(data_set, cell):\n",
    "    uniques = []\n",
    "    duplicates = []\n",
    "    for row in data_set:\n",
    "        value = row[cell]\n",
    "        if value in uniques:\n",
    "            duplicates.append(value)\n",
    "        else:\n",
    "            uniques.append(value)\n",
    "    return duplicates"
   ]
  },
  {
   "cell_type": "code",
   "execution_count": 10,
   "metadata": {},
   "outputs": [
    {
     "name": "stdout",
     "output_type": "stream",
     "text": [
      "Number of duplicate apps: 1181\n",
      "\n",
      "\n",
      "Examples of duplicate apps:  ['Quick PDF Scanner + OCR FREE', 'Box', 'Google My Business', 'ZOOM Cloud Meetings', 'join.me - Simple Meetings']\n"
     ]
    }
   ],
   "source": [
    "android_duplicates = find_duplicates_values(android, 0)\n",
    "print(f'Number of duplicate apps: {len(android_duplicates)}')\n",
    "print('\\n')\n",
    "print('Examples of duplicate apps: ', android_duplicates[:5])"
   ]
  },
  {
   "cell_type": "markdown",
   "metadata": {},
   "source": [
    "We can delete ramdoly all duplicates apps becase they can have dirents values, like the number of reviews. In this case we can delete all apps with the min Reviews.\n",
    "\n",
    "For exaplame we have Quick PDF Scanner + OCR FREE app with 3 differents rows in daataset. "
   ]
  },
  {
   "cell_type": "code",
   "execution_count": 11,
   "metadata": {},
   "outputs": [
    {
     "name": "stdout",
     "output_type": "stream",
     "text": [
      "Reviews = 80805\n",
      "Reviews = 80805\n",
      "Reviews = 80804\n"
     ]
    }
   ],
   "source": [
    "for app in android:\n",
    "    name = app[0]\n",
    "    if name == 'Quick PDF Scanner + OCR FREE':\n",
    "        print(f'Reviews = {app[3]}')"
   ]
  },
  {
   "cell_type": "markdown",
   "metadata": {},
   "source": [
    "To remove the duplicates, we will:\n",
    "\n",
    "- Create a dictionary, where each dictionary key is a unique app name and the corresponding dictionary value is the highest number of reviews of that app.\n",
    "- Use the information stored in the dictionary and create a new data set, which will have only one entry per app (and for each app, we'll only select the entry with the highest number of reviews)."
   ]
  },
  {
   "cell_type": "code",
   "execution_count": 12,
   "metadata": {},
   "outputs": [
    {
     "name": "stdout",
     "output_type": "stream",
     "text": [
      "Expected length: 9659\n"
     ]
    }
   ],
   "source": [
    "reviews_max = {}\n",
    "for app in android:\n",
    "    review = float(app[3])\n",
    "    name = app[0]\n",
    "    # comparison to find the app with max review value\n",
    "    if review > reviews_max.get(name, -1): \n",
    "        reviews_max[name] = review\n",
    "\n",
    "print(f'Expected length: {len(reviews_max)}')"
   ]
  },
  {
   "cell_type": "code",
   "execution_count": 13,
   "metadata": {},
   "outputs": [
    {
     "name": "stdout",
     "output_type": "stream",
     "text": [
      "['Photo Editor & Candy Camera & Grid & ScrapBook', 'ART_AND_DESIGN', '4.1', '159', '19M', '10,000+', 'Free', '0', 'Everyone', 'Art & Design', 'January 7, 2018', '1.0.0', '4.0.3 and up']\n",
      "\n",
      "\n",
      "['U Launcher Lite – FREE Live Cool Themes, Hide Apps', 'ART_AND_DESIGN', '4.7', '87510', '8.7M', '5,000,000+', 'Free', '0', 'Everyone', 'Art & Design', 'August 1, 2018', '1.2.4', '4.0.3 and up']\n",
      "\n",
      "\n",
      "['Sketch - Draw & Paint', 'ART_AND_DESIGN', '4.5', '215644', '25M', '50,000,000+', 'Free', '0', 'Teen', 'Art & Design', 'June 8, 2018', 'Varies with device', '4.2 and up']\n",
      "\n",
      "\n",
      "['Pixel Draw - Number Art Coloring Book', 'ART_AND_DESIGN', '4.3', '967', '2.8M', '100,000+', 'Free', '0', 'Everyone', 'Art & Design;Creativity', 'June 20, 2018', '1.1', '4.4 and up']\n",
      "\n",
      "\n",
      "['Paper flowers instructions', 'ART_AND_DESIGN', '4.4', '167', '5.6M', '50,000+', 'Free', '0', 'Everyone', 'Art & Design', 'March 26, 2017', '1.0', '2.3 and up']\n",
      "\n",
      "\n",
      "Number of rows 9659\n",
      "Number of columns 13\n"
     ]
    }
   ],
   "source": [
    "android_clean = []\n",
    "already_added = []\n",
    "for app in android:\n",
    "    review = float(app[3])   \n",
    "    name = app[0]\n",
    "    if name in reviews_max and review == reviews_max[name]:\n",
    "        if name not in already_added:\n",
    "            already_added.append(name)\n",
    "            android_clean.append(app)\n",
    "        \n",
    "explore_data(android_clean, 0, 5, True)\n",
    "    "
   ]
  },
  {
   "cell_type": "markdown",
   "metadata": {},
   "source": [
    "## Removing Non-English Apps\n",
    "Remember we use English for the apps we develop at our company, and we'd like to analyze only the apps that are directed toward an English-speaking audience. However, if we explore the data long enough, we'll find that both data sets have apps with names that suggest they are not directed toward an English-speaking audience."
   ]
  },
  {
   "cell_type": "markdown",
   "metadata": {},
   "source": [
    "We'll remove each app with a name containing a symbol that is not commonly used in English text. \n",
    "\n",
    "To check that we'll use `ord` built-in function to check the value assign to every character in name of app, the values we are interesting are min of 127.\n",
    "\n",
    "In data sets exists apps whit other characters there are no related to the langges of the app, like emojis `😜` or characters like `™`.\n",
    "\n",
    "To consider these apps in our analysis, it seemed enough to us to have in the name of the apps as a maximum of three symbols that is not commonly used in English"
   ]
  },
  {
   "cell_type": "code",
   "execution_count": 14,
   "metadata": {},
   "outputs": [],
   "source": [
    "def is_common_english(name):\n",
    "    non_ascii = 0\n",
    "    for character in name:\n",
    "        if ord(character) > 127:\n",
    "            non_ascii += 1\n",
    "            # If we have more than 3 non ascii,\n",
    "            # we can break the for loop\n",
    "            if non_ascii > 3: \n",
    "                return False\n",
    "    return True"
   ]
  },
  {
   "cell_type": "markdown",
   "metadata": {},
   "source": [
    "We'll use the function `is_common_english` to check whether these app names are detected as English or non-English:"
   ]
  },
  {
   "cell_type": "code",
   "execution_count": 15,
   "metadata": {},
   "outputs": [
    {
     "name": "stdout",
     "output_type": "stream",
     "text": [
      "True\n",
      "False\n",
      "True\n",
      "True\n"
     ]
    }
   ],
   "source": [
    "print(is_common_english('Instagram'))\n",
    "print(is_common_english('爱奇艺PPS -《欢乐颂2》电视剧热播'))\n",
    "print(is_common_english('Docs To Go™ Free Office Suite'))\n",
    "print(is_common_english('Instachat 😜'))"
   ]
  },
  {
   "cell_type": "markdown",
   "metadata": {},
   "source": [
    "We'll explore data sets to find non common English apps.\n"
   ]
  },
  {
   "cell_type": "code",
   "execution_count": 16,
   "metadata": {},
   "outputs": [],
   "source": [
    "def find_non_common_english(data_set, cell):\n",
    "    non_common_english = []\n",
    "    for row in data_set:\n",
    "        if not is_common_english(row[cell]):\n",
    "            non_common_english.append(row)\n",
    "            \n",
    "    return non_common_english\n"
   ]
  },
  {
   "cell_type": "code",
   "execution_count": 17,
   "metadata": {},
   "outputs": [
    {
     "name": "stdout",
     "output_type": "stream",
     "text": [
      "['445375097', '爱奇艺PPS -《欢乐颂2》电视剧热播', '224617472', 'USD', '0.0', '14844', '0', '4.0', '0.0', '6.3.3', '17+', 'Entertainment', '38', '5', '3', '1']\n",
      "\n",
      "\n",
      "['405667771', '聚力视频HD-人民的名义,跨界歌王全网热播', '90725376', 'USD', '0.0', '7446', '8', '4.0', '4.5', '5.0.8', '12+', 'Entertainment', '24', '4', '1', '1']\n",
      "\n",
      "\n",
      "\n",
      "\n",
      "['Flame - درب عقلك يوميا', 'EDUCATION', '4.6', '56065', '37M', '1,000,000+', 'Free', '0', 'Everyone', 'Education', 'July 26, 2018', '3.3', '4.1 and up']\n",
      "\n",
      "\n",
      "['သိင်္ Astrology - Min Thein Kha BayDin', 'LIFESTYLE', '4.7', '2225', '15M', '100,000+', 'Free', '0', 'Everyone', 'Lifestyle', 'July 26, 2018', '4.2.1', '4.0.3 and up']\n",
      "\n",
      "\n"
     ]
    }
   ],
   "source": [
    "ios_non_english = find_non_common_english(ios, 1)\n",
    "explore_data(ios_non_english, 0, 2)\n",
    "print('\\n')\n",
    "android_non_english = find_non_common_english(android_clean, 0)\n",
    "explore_data(android_non_english,0,2)"
   ]
  },
  {
   "cell_type": "markdown",
   "metadata": {},
   "source": [
    "We'll explore data sets to find English apps."
   ]
  },
  {
   "cell_type": "code",
   "execution_count": 18,
   "metadata": {},
   "outputs": [],
   "source": [
    "def find_common_english(data_set, cell):\n",
    "    common_english = []\n",
    "    for row in data_set:\n",
    "        if is_common_english(row[cell]):\n",
    "            common_english.append(row)\n",
    "            \n",
    "    return common_english"
   ]
  },
  {
   "cell_type": "code",
   "execution_count": 19,
   "metadata": {},
   "outputs": [
    {
     "name": "stdout",
     "output_type": "stream",
     "text": [
      "['Photo Editor & Candy Camera & Grid & ScrapBook', 'ART_AND_DESIGN', '4.1', '159', '19M', '10,000+', 'Free', '0', 'Everyone', 'Art & Design', 'January 7, 2018', '1.0.0', '4.0.3 and up']\n",
      "\n",
      "\n",
      "Number of rows 9614\n",
      "Number of columns 13\n",
      "\n",
      "\n",
      "['284882215', 'Facebook', '389879808', 'USD', '0.0', '2974676', '212', '3.5', '3.5', '95.0', '4+', 'Social Networking', '37', '1', '29', '1']\n",
      "\n",
      "\n",
      "Number of rows 6183\n",
      "Number of columns 16\n"
     ]
    }
   ],
   "source": [
    "android_english = find_common_english(android_clean, 0)\n",
    "explore_data(android_english, 0, 1, True)\n",
    "print('\\n')\n",
    "ios_english = find_common_english(ios, 1)\n",
    "explore_data(ios_english, 0, 1, True)\n"
   ]
  },
  {
   "cell_type": "code",
   "execution_count": 20,
   "metadata": {},
   "outputs": [],
   "source": [
    "android = android_english\n",
    "ios = ios_english"
   ]
  },
  {
   "cell_type": "markdown",
   "metadata": {},
   "source": [
    "## Isolated the free apps\n",
    "\n",
    "We'll loop through each data set to isolate the free apps in separate lists."
   ]
  },
  {
   "cell_type": "markdown",
   "metadata": {},
   "source": [
    "For Google Play data set the price come up as string (`0`, `$0.99`, `$2.99`)."
   ]
  },
  {
   "cell_type": "code",
   "execution_count": 21,
   "metadata": {},
   "outputs": [
    {
     "name": "stdout",
     "output_type": "stream",
     "text": [
      "['Photo Editor & Candy Camera & Grid & ScrapBook', 'ART_AND_DESIGN', '4.1', '159', '19M', '10,000+', 'Free', '0', 'Everyone', 'Art & Design', 'January 7, 2018', '1.0.0', '4.0.3 and up']\n",
      "\n",
      "\n",
      "['U Launcher Lite – FREE Live Cool Themes, Hide Apps', 'ART_AND_DESIGN', '4.7', '87510', '8.7M', '5,000,000+', 'Free', '0', 'Everyone', 'Art & Design', 'August 1, 2018', '1.2.4', '4.0.3 and up']\n",
      "\n",
      "\n",
      "['Sketch - Draw & Paint', 'ART_AND_DESIGN', '4.5', '215644', '25M', '50,000,000+', 'Free', '0', 'Teen', 'Art & Design', 'June 8, 2018', 'Varies with device', '4.2 and up']\n",
      "\n",
      "\n",
      "Number of rows 8864\n",
      "Number of columns 13\n"
     ]
    }
   ],
   "source": [
    "android_free = []\n",
    "for app in android:\n",
    "    price = app[7]\n",
    "    # compering to '0' string   \n",
    "    # instead of 0 int or 0.0 float \n",
    "    if price == '0':\n",
    "        android_free.append(app)\n",
    "        \n",
    "explore_data(android_free, 0,3, True)"
   ]
  },
  {
   "cell_type": "markdown",
   "metadata": {},
   "source": [
    "The App Store data set the price come up as string (`0.0`, `$0.99`, `$2.99`)."
   ]
  },
  {
   "cell_type": "code",
   "execution_count": 22,
   "metadata": {},
   "outputs": [
    {
     "name": "stdout",
     "output_type": "stream",
     "text": [
      "['284882215', 'Facebook', '389879808', 'USD', '0.0', '2974676', '212', '3.5', '3.5', '95.0', '4+', 'Social Networking', '37', '1', '29', '1']\n",
      "\n",
      "\n",
      "['389801252', 'Instagram', '113954816', 'USD', '0.0', '2161558', '1289', '4.5', '4.0', '10.23', '12+', 'Photo & Video', '37', '0', '29', '1']\n",
      "\n",
      "\n",
      "['529479190', 'Clash of Clans', '116476928', 'USD', '0.0', '2130805', '579', '4.5', '4.5', '9.24.12', '9+', 'Games', '38', '5', '18', '1']\n",
      "\n",
      "\n",
      "Number of rows 3222\n",
      "Number of columns 16\n"
     ]
    }
   ],
   "source": [
    "ios_free = []\n",
    "for app in ios:\n",
    "    price = app[4]\n",
    "    if price == '0.0':\n",
    "        ios_free.append(app)\n",
    "\n",
    "explore_data(ios_free, 0, 3, True)"
   ]
  },
  {
   "cell_type": "code",
   "execution_count": 23,
   "metadata": {},
   "outputs": [],
   "source": [
    "android = android_free\n",
    "ios = ios_free"
   ]
  },
  {
   "cell_type": "markdown",
   "metadata": {},
   "source": [
    "## Most Common Apps by Genre\n",
    "Because our end goal is to add the app on both Google Play and the App Store, we need to find app profiles that are successful on both markets.\n",
    "\n",
    "Let's begin the analysis by getting a sense of what are the most common genres for each market.\n",
    "\n",
    "We'll build three functions we can use to analyze the frequency tables:\n",
    "\n",
    "One function to generate frequency tables that show percentages.\n",
    "Another function that we can use to display the percentages in a descending order.\n",
    "The last funciton calling the other tow funtions, this is for reuse `freq_table` and `display_freq_table` funcitons."
   ]
  },
  {
   "cell_type": "code",
   "execution_count": 24,
   "metadata": {},
   "outputs": [],
   "source": [
    "# Returns frequency table for a data set for certian row index\n",
    "def freq_table(dataset, row_index):\n",
    "    table = {}\n",
    "    for row in dataset:\n",
    "        cell = row[row_index]\n",
    "        if cell in table:\n",
    "            table[cell] += 1\n",
    "        else:\n",
    "            table[cell] = 1\n",
    "    \n",
    "    total = len(dataset)\n",
    "    \n",
    "    for key in table:\n",
    "        percentage = (table[key] / total) * 100\n",
    "        table[key] = percentage\n",
    "        \n",
    "    return table"
   ]
  },
  {
   "cell_type": "code",
   "execution_count": 25,
   "metadata": {},
   "outputs": [],
   "source": [
    "# Display frequency, with first elements of table, default value is 10.\n",
    "def display_freq_table(table, top=10):\n",
    "    table_display = []\n",
    "    for k, v in table.items():\n",
    "        table_display.append((v, k))\n",
    "    \n",
    "    table_sorted = sorted(table_display, reverse=True)[:top]\n",
    "    table_slice = table_sorted[:top]\n",
    "    for row in table_slice:\n",
    "        print(row[1], ' : ', row[0])"
   ]
  },
  {
   "cell_type": "code",
   "execution_count": 26,
   "metadata": {},
   "outputs": [],
   "source": [
    "def display_table(dataset, index, top=10):\n",
    "    table = freq_table(dataset, index)\n",
    "    display_freq_table(table)"
   ]
  },
  {
   "cell_type": "markdown",
   "metadata": {},
   "source": [
    "For the App Store why have the top ten Genres. The Genres with more percentage are: `Games`, `Entertainment`, `Photo & Video`."
   ]
  },
  {
   "cell_type": "code",
   "execution_count": 27,
   "metadata": {},
   "outputs": [
    {
     "name": "stdout",
     "output_type": "stream",
     "text": [
      "Games  :  58.16263190564867\n",
      "Entertainment  :  7.883302296710118\n",
      "Photo & Video  :  4.9658597144630665\n",
      "Education  :  3.662321539416512\n",
      "Social Networking  :  3.2898820608317814\n",
      "Shopping  :  2.60707635009311\n",
      "Utilities  :  2.5139664804469275\n",
      "Sports  :  2.1415270018621975\n",
      "Music  :  2.0484171322160147\n",
      "Health & Fitness  :  2.0173805090006205\n"
     ]
    }
   ],
   "source": [
    "display_table(ios, 11)"
   ]
  },
  {
   "cell_type": "markdown",
   "metadata": {},
   "source": [
    "Most of the apps designed for entertainment. \n",
    "\n",
    "We need more data to analyse for recommend an app profile, like number of downloads, or reviews in the store."
   ]
  },
  {
   "cell_type": "markdown",
   "metadata": {},
   "source": [
    "For Play Store this is the top ten Genres.\n",
    "\n",
    "We do not have a clear pattern of the distribution of the genre of the applications.\n",
    "\n",
    "Compare with the pattern of App Store, in Play Store we have more different Genres in the most common genres."
   ]
  },
  {
   "cell_type": "code",
   "execution_count": 28,
   "metadata": {},
   "outputs": [
    {
     "name": "stdout",
     "output_type": "stream",
     "text": [
      "Tools  :  8.449909747292418\n",
      "Entertainment  :  6.069494584837545\n",
      "Education  :  5.347472924187725\n",
      "Business  :  4.591606498194946\n",
      "Productivity  :  3.892148014440433\n",
      "Lifestyle  :  3.892148014440433\n",
      "Finance  :  3.7003610108303246\n",
      "Medical  :  3.531137184115524\n",
      "Sports  :  3.463447653429603\n",
      "Personalization  :  3.3167870036101084\n",
      "\n",
      "\n",
      "FAMILY  :  18.907942238267147\n",
      "GAME  :  9.724729241877256\n",
      "TOOLS  :  8.461191335740072\n",
      "BUSINESS  :  4.591606498194946\n",
      "LIFESTYLE  :  3.9034296028880866\n",
      "PRODUCTIVITY  :  3.892148014440433\n",
      "FINANCE  :  3.7003610108303246\n",
      "MEDICAL  :  3.531137184115524\n",
      "SPORTS  :  3.395758122743682\n",
      "PERSONALIZATION  :  3.3167870036101084\n"
     ]
    }
   ],
   "source": [
    "display_table(android, 9)\n",
    "print('\\n')\n",
    "display_table(android, 1)"
   ]
  },
  {
   "cell_type": "markdown",
   "metadata": {},
   "source": [
    "## Most Popular Apps by Genre on the App Store\n",
    "\n",
    "One way to find out what genres are the most popular (have the most users) is to calculate the average number of installs for each app genre.\n",
    "\n",
    "We'll make a function that calculate and display apps average number of installs for each app genre.\n",
    "\n",
    "Because the Android dataset contains special characters in the Installs column value, an example is `100,000+`, we need to remove `,` and `+` character to can to cast a float value. To remove that character we'll use `replace` built-in function."
   ]
  },
  {
   "cell_type": "code",
   "execution_count": 29,
   "metadata": {},
   "outputs": [],
   "source": [
    "# index_genre is the index of cell in dataset that represent the genre.\n",
    "# index_install is the index of cell in dataset that represent the installs value.\n",
    "def freq_app_installs(dataset, index_genre, index_install):\n",
    "    table = freq_table(dataset, index_genre)\n",
    "    inner_table = {}\n",
    "    \n",
    "    for key in table:\n",
    "        total = 0\n",
    "        inner_table[key] = 0\n",
    "        for row in dataset:\n",
    "            genre = row[index_genre]\n",
    "            # For android dataset we'll need to remove ',' and '+' characters.         \n",
    "            installs = row[index_install].replace(',','')\n",
    "            installs = installs.replace('+', '')\n",
    "            installs = float(installs)\n",
    "            \n",
    "            if genre == key:\n",
    "                inner_table[key] += installs\n",
    "                total += 1\n",
    "        freq = inner_table[key] / total \n",
    "        inner_table[key] = freq\n",
    "    return inner_table"
   ]
  },
  {
   "cell_type": "code",
   "execution_count": 30,
   "metadata": {},
   "outputs": [
    {
     "name": "stdout",
     "output_type": "stream",
     "text": [
      "Navigation  :  86090.33333333333\n",
      "Reference  :  74942.11111111111\n",
      "Social Networking  :  71548.34905660378\n",
      "Music  :  57326.530303030304\n",
      "Weather  :  52279.892857142855\n",
      "Book  :  39758.5\n",
      "Food & Drink  :  33333.92307692308\n",
      "Finance  :  31467.944444444445\n",
      "Photo & Video  :  28441.54375\n",
      "Travel  :  28243.8\n"
     ]
    }
   ],
   "source": [
    "ios_freq_app_installs = freq_app_installs(ios, 11, 5)\n",
    "display_freq_table(ios_freq_app_installs)"
   ]
  },
  {
   "cell_type": "markdown",
   "metadata": {},
   "source": [
    "For App Store we have categories `Navigation`, `Reference` and `Social Networking` with the largest number of applications installed.\n",
    "\n",
    "We'll make a function to explore datasets for `genre`, we loop through dataset and filter apps for specific `genre`. When we have the apps filtered, we'll sort them in descending order to be clear about market trends."
   ]
  },
  {
   "cell_type": "code",
   "execution_count": 31,
   "metadata": {},
   "outputs": [],
   "source": [
    "def display_appp_by_genre(dataset, index_name, index_genre, index_installs, genre):\n",
    "    apps = []\n",
    "    for app in dataset:\n",
    "        if app[index_genre] == genre:\n",
    "            installs = app[index_installs].replace(',','')\n",
    "            installs = installs.replace('+', '')\n",
    "            installs = float(installs)\n",
    "            name = app[index_name]\n",
    "            apps.append((installs, name))\n",
    "    \n",
    "    apps_sorted = sorted(apps, reverse=True)\n",
    "    \n",
    "    for app in apps_sorted[:10]:\n",
    "        print(f'{app[1]} : {app[0]}')"
   ]
  },
  {
   "cell_type": "code",
   "execution_count": 32,
   "metadata": {},
   "outputs": [
    {
     "name": "stdout",
     "output_type": "stream",
     "text": [
      "Navigation\n",
      "Waze - GPS Navigation, Maps & Real-time Traffic : 345046.0\n",
      "Google Maps - Navigation & Transit : 154911.0\n",
      "Geocaching® : 12811.0\n",
      "CoPilot GPS – Car Navigation & Offline Maps : 3582.0\n",
      "ImmobilienScout24: Real Estate Search in Germany : 187.0\n",
      "Railway Route Search : 5.0\n",
      "\n",
      " Reference\n",
      "Bible : 985920.0\n",
      "Dictionary.com Dictionary & Thesaurus : 200047.0\n",
      "Dictionary.com Dictionary & Thesaurus for iPad : 54175.0\n",
      "Google Translate : 26786.0\n",
      "Muslim Pro: Ramadan 2017 Prayer Times, Azan, Quran : 18418.0\n",
      "New Furniture Mods - Pocket Wiki & Game Tools for Minecraft PC Edition : 17588.0\n",
      "Merriam-Webster Dictionary : 16849.0\n",
      "Night Sky : 12122.0\n",
      "City Maps for Minecraft PE - The Best Maps for Minecraft Pocket Edition (MCPE) : 8535.0\n",
      "LUCKY BLOCK MOD ™ for Minecraft PC Edition - The Best Pocket Wiki & Mods Installer Tools : 4693.0\n",
      "\n",
      " Social Networking\n",
      "Facebook : 2974676.0\n",
      "Pinterest : 1061624.0\n",
      "Skype for iPhone : 373519.0\n",
      "Messenger : 351466.0\n",
      "Tumblr : 334293.0\n",
      "WhatsApp Messenger : 287589.0\n",
      "Kik : 260965.0\n",
      "ooVoo – Free Video Call, Text and Voice : 177501.0\n",
      "TextNow - Unlimited Text + Calls : 164963.0\n",
      "Viber Messenger – Text & Call : 164249.0\n"
     ]
    }
   ],
   "source": [
    "print('Navigation')\n",
    "display_appp_by_genre(ios,1, 11, 5, 'Navigation')\n",
    "print('\\n','Reference')\n",
    "display_appp_by_genre(ios,1, 11, 5, 'Reference')\n",
    "print('\\n', 'Social Networking')\n",
    "display_appp_by_genre(ios,1, 11, 5, 'Social Networking')"
   ]
  },
  {
   "cell_type": "markdown",
   "metadata": {},
   "source": [
    "For the `Navigation` and ` Social Networking\n",
    "` genre we see is clearly dominated by large companies tech like `Waze Mobile`, `Google` whit apps like `Google Maps`, `Faceebook` whit apps like `Facebook`, `Messenger` and `WhatsApp`. Which makes it very difficult to compete in these genres. On the other hand we have Gender `Reference` where no large companies tech appears in the top 3 apps."
   ]
  },
  {
   "cell_type": "markdown",
   "metadata": {},
   "source": [
    "## Most Popular Apps by Genre on the Play Store\n"
   ]
  },
  {
   "cell_type": "markdown",
   "metadata": {},
   "source": [
    "For Play Store we'll show `Category` and `Genres` frequency tables"
   ]
  },
  {
   "cell_type": "code",
   "execution_count": 33,
   "metadata": {
    "scrolled": true
   },
   "outputs": [
    {
     "name": "stdout",
     "output_type": "stream",
     "text": [
      "COMMUNICATION  :  38456119.167247385\n",
      "VIDEO_PLAYERS  :  24727872.452830188\n",
      "SOCIAL  :  23253652.127118643\n",
      "PHOTOGRAPHY  :  17840110.40229885\n",
      "PRODUCTIVITY  :  16787331.344927534\n",
      "GAME  :  15588015.603248259\n",
      "TRAVEL_AND_LOCAL  :  13984077.710144928\n",
      "ENTERTAINMENT  :  11640705.88235294\n",
      "TOOLS  :  10801391.298666667\n",
      "NEWS_AND_MAGAZINES  :  9549178.467741935\n",
      "\n",
      "\n",
      "Communication  :  38456119.167247385\n",
      "Adventure;Action & Adventure  :  35333333.333333336\n",
      "Video Players & Editors  :  24947335.796178345\n",
      "Social  :  23253652.127118643\n",
      "Arcade  :  22888365.48780488\n",
      "Casual  :  19569221.602564104\n",
      "Puzzle;Action & Adventure  :  18366666.666666668\n",
      "Photography  :  17840110.40229885\n",
      "Educational;Action & Adventure  :  17016666.666666668\n",
      "Productivity  :  16787331.344927534\n"
     ]
    }
   ],
   "source": [
    "android_freq_app_installs = freq_app_installs(android, 1, 5)\n",
    "display_freq_table(android_freq_app_installs)\n",
    "print('\\n')\n",
    "android_freq_app_installs = freq_app_installs(android, 9, 5)\n",
    "display_freq_table(android_freq_app_installs)"
   ]
  },
  {
   "cell_type": "markdown",
   "metadata": {},
   "source": [
    "For Play Store we have `Communication`, `Video players`, `Adventure;Action & Adventure` and`Social` with the largest number of applications installed. Let's explore these genres."
   ]
  },
  {
   "cell_type": "code",
   "execution_count": 34,
   "metadata": {},
   "outputs": [
    {
     "name": "stdout",
     "output_type": "stream",
     "text": [
      "Communication\n",
      "WhatsApp Messenger : 1000000000.0\n",
      "Skype - free IM & video calls : 1000000000.0\n",
      "Messenger – Text and Video Chat for Free : 1000000000.0\n",
      "Hangouts : 1000000000.0\n",
      "Google Chrome: Fast & Secure : 1000000000.0\n",
      "Gmail : 1000000000.0\n",
      "imo free video calls and chat : 500000000.0\n",
      "Viber Messenger : 500000000.0\n",
      "UC Browser - Fast Download Private & Secure : 500000000.0\n",
      "LINE: Free Calls & Messages : 500000000.0\n",
      "\n",
      " Video players\n",
      "YouTube : 1000000000.0\n",
      "Google Play Movies & TV : 1000000000.0\n",
      "MX Player : 500000000.0\n",
      "VivaVideo - Video Editor & Photo Movie : 100000000.0\n",
      "VideoShow-Video Editor, Video Maker, Beauty Camera : 100000000.0\n",
      "VLC for Android : 100000000.0\n",
      "Motorola Gallery : 100000000.0\n",
      "Motorola FM Radio : 100000000.0\n",
      "Dubsmash : 100000000.0\n",
      "Vote for : 50000000.0\n",
      "\n",
      " Adventure;Action & Adventure\n",
      "ROBLOX : 100000000.0\n",
      "Transformers Rescue Bots: Hero Adventures : 5000000.0\n",
      "Leo and Tig : 1000000.0\n",
      "\n",
      " Social\n",
      "Instagram : 1000000000.0\n",
      "Google+ : 1000000000.0\n",
      "Facebook : 1000000000.0\n",
      "Snapchat : 500000000.0\n",
      "Facebook Lite : 500000000.0\n",
      "VK : 100000000.0\n",
      "Tumblr : 100000000.0\n",
      "Tik Tok - including musical.ly : 100000000.0\n",
      "Tango - Live Video Broadcast : 100000000.0\n",
      "Pinterest : 100000000.0\n"
     ]
    }
   ],
   "source": [
    "print('Communication')\n",
    "display_appp_by_genre(android, 0, 1, 5, 'COMMUNICATION')\n",
    "print('\\n', 'Video players')\n",
    "display_appp_by_genre(android, 0, 1, 5, 'VIDEO_PLAYERS')\n",
    "print('\\n', 'Adventure;Action & Adventure')\n",
    "display_appp_by_genre(android, 0, 9, 5, 'Adventure;Action & Adventure')\n",
    "print('\\n', 'Social')\n",
    "display_appp_by_genre(android, 0, 1, 5, 'SOCIAL')"
   ]
  },
  {
   "cell_type": "markdown",
   "metadata": {},
   "source": [
    "For the top genres that we have explored we see is clearly dominated by large companies tech like `Google` whit apps like `Google Chrome`, `Gmail`, `Youtube`, `Faceebook` whit apps like `Facebook`, `Instagram`. Which makes it very difficult to compete in these genres.\n",
    "\n",
    "to see if there is any behavior similar to the one found in the Apple Store dataset.\n",
    "\n",
    "First we have to find a genre that is similar to `Reference`."
   ]
  },
  {
   "cell_type": "code",
   "execution_count": 35,
   "metadata": {},
   "outputs": [
    {
     "name": "stdout",
     "output_type": "stream",
     "text": [
      "['ART_AND_DESIGN', 'AUTO_AND_VEHICLES', 'BEAUTY', 'BOOKS_AND_REFERENCE', 'BUSINESS', 'COMICS', 'COMMUNICATION', 'DATING', 'EDUCATION', 'ENTERTAINMENT', 'EVENTS', 'FINANCE', 'FOOD_AND_DRINK', 'HEALTH_AND_FITNESS', 'HOUSE_AND_HOME', 'LIBRARIES_AND_DEMO', 'LIFESTYLE', 'GAME', 'FAMILY', 'MEDICAL', 'SOCIAL', 'SHOPPING', 'PHOTOGRAPHY', 'SPORTS', 'TRAVEL_AND_LOCAL', 'TOOLS', 'PERSONALIZATION', 'PRODUCTIVITY', 'PARENTING', 'WEATHER', 'VIDEO_PLAYERS', 'NEWS_AND_MAGAZINES', 'MAPS_AND_NAVIGATION']\n"
     ]
    }
   ],
   "source": [
    "genres = []\n",
    "for app in android:\n",
    "    genere = app[1]\n",
    "    if genere not in genres:\n",
    "        genres.append(genere)\n",
    "\n",
    "print(genres)"
   ]
  },
  {
   "cell_type": "markdown",
   "metadata": {},
   "source": [
    "We found `BOOKS_AND_REFERENCE` genre, we are going to explore."
   ]
  },
  {
   "cell_type": "code",
   "execution_count": 36,
   "metadata": {},
   "outputs": [
    {
     "name": "stdout",
     "output_type": "stream",
     "text": [
      "Google Play Books : 1000000000.0\n",
      "Wattpad 📖 Free Books : 100000000.0\n",
      "Bible : 100000000.0\n",
      "Audiobooks from Audible : 100000000.0\n",
      "Amazon Kindle : 100000000.0\n",
      "Wikipedia : 10000000.0\n",
      "Spanish English Translator : 10000000.0\n",
      "Quran for Android : 10000000.0\n",
      "Oxford Dictionary of English : Free : 10000000.0\n",
      "NOOK: Read eBooks & Magazines : 10000000.0\n"
     ]
    }
   ],
   "source": [
    "display_appp_by_genre(android, 0, 1, 5, 'BOOKS_AND_REFERENCE')"
   ]
  },
  {
   "cell_type": "markdown",
   "metadata": {},
   "source": [
    "We found in the `BOOKS_AND_REFERENCE` genre we have the Bible as in Apple Store dataset. We can take this finding as a clue to develop an app that is about a popular boos, or a new publication."
   ]
  },
  {
   "cell_type": "markdown",
   "metadata": {},
   "source": [
    "# Conclusions\n",
    "In this project, we analyzed data about the App Store and Google Play mobile apps with the goal of recommending an app profile that can be profitable for both markets.\n",
    "\n",
    "We conclude we can take an popular book and turning it into an app could be profitable for both the Google Play and the App Store market. We can include in the app interactive author's notes, or the function of making the book audible to make the app more attractive."
   ]
  }
 ],
 "metadata": {
  "kernelspec": {
   "display_name": "Python 3",
   "language": "python",
   "name": "python3"
  },
  "language_info": {
   "codemirror_mode": {
    "name": "ipython",
    "version": 3
   },
   "file_extension": ".py",
   "mimetype": "text/x-python",
   "name": "python",
   "nbconvert_exporter": "python",
   "pygments_lexer": "ipython3",
   "version": "3.8.2"
  }
 },
 "nbformat": 4,
 "nbformat_minor": 2
}
