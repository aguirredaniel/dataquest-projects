{
 "cells": [
  {
   "cell_type": "markdown",
   "id": "e13757d6",
   "metadata": {},
   "source": [
    "# Investigating Fandango Movie Ratings\n",
    "\n",
    "Both distributions above are strongly left skewed, suggesting that movie ratings on Fandango are generally high or very high. We can see there's no rating under 2 stars in the sample Hickey analyzed. The distribution of displayed ratings is clearly shifted to the right compared to the actual rating distribution, suggesting strongly that Fandango inflates the ratings under the hood.\n",
    "\n",
    "Fandango's officials replied that the biased rounding off was caused by a bug in their system rather than being intentional, and they promised to fix the bug as soon as possible. Presumably, this has already happened, although we can't tell for sure since the actual rating value doesn't seem to be displayed anymore in the pages' HTML.\n",
    "\n",
    "In this project, we'll analyze more recent movie ratings data to determine whether there has been any change in Fandango's rating system after Hickey's analysis."
   ]
  },
  {
   "cell_type": "markdown",
   "id": "90f1561d",
   "metadata": {},
   "source": [
    "## Understanding the Data\n",
    "\n",
    "One of the best ways to figure out whether there has been any change in Fandango's rating system after Hickey's analysis is to compare the system's characteristics previous and after the analysis.\n",
    "\n",
    "- Walt Hickey made the data he analyzed publicly available on [GitHub](https://github.com/fivethirtyeight/data/tree/master/fandango). We'll use the data he collected to analyze the characteristics of Fandango's rating system previous to his analysis.\n",
    "- One of Dataquest's team members collected movie ratings data for movies released in 2016 and 2017. The data is publicly available on [GitHub](https://github.com/mircealex/Movie_ratings_2016_17) and we'll use it to analyze the rating system's characteristics after Hickey's analysis.\n"
   ]
  },
  {
   "cell_type": "code",
   "execution_count": 1,
   "id": "4dcb607d",
   "metadata": {},
   "outputs": [],
   "source": [
    "import pandas as pd\n",
    "fandango_score_comparison = pd.read_csv('fandango_score_comparison.csv')\n",
    "movie_ratings_16_17 = pd.read_csv('movie_ratings_16_17.csv')"
   ]
  },
  {
   "cell_type": "code",
   "execution_count": 2,
   "id": "4c6f6bde",
   "metadata": {},
   "outputs": [],
   "source": [
    "fandango_previous = fandango_score_comparison[['FILM', 'Fandango_Stars', 'Fandango_Ratingvalue', 'Fandango_votes', 'Fandango_Difference']].copy()\n",
    "fandango_after = movie_ratings_16_17[['movie', 'year', 'fandango']].copy()"
   ]
  },
  {
   "cell_type": "markdown",
   "id": "4db32836",
   "metadata": {},
   "source": [
    "This could be due to the fact that the dataset has specific sampling characteristics:\n",
    "For Fandango sampling have:\n",
    "- At least 30 fan reviews on Fandango\n",
    "- Contains a rating or score in Rotten Tomatoes, RT User, Metacritic, Metacritic User and IMDb.\n",
    "- The data from Fandango was pulled on Aug. 24, 2015\n",
    "\n",
    "For Movie ratings have:\n",
    "- Most popular movies (with a significant number of votes).\n",
    "- Mostly for movies released in 2016 \n",
    "\n",
    "It's unlikely to be representative of our population of interest."
   ]
  },
  {
   "cell_type": "markdown",
   "id": "20ccef48",
   "metadata": {},
   "source": [
    "## Changing the Goal of our Analysis\n",
    "\n",
    "At this point, we can either collect new data or change our the goal of our analysis. We choose the latter and place some limitations on our initial goal.\n",
    "\n",
    "Instead of trying to determine whether there has been any change in Fandango's rating system after Hickey's analysis, our new goal is to determine whether there's any difference between Fandango's ratings for popular movies in 2015 and Fandango's ratings for popular movies in 2016. This new goal should also be a fairly good proxy for our initial goal."
   ]
  },
  {
   "cell_type": "markdown",
   "id": "2fd4b8c5",
   "metadata": {},
   "source": [
    "## 4. Isolating the Samples We Need\n",
    "With the new goal, we now have two populations that we want to describe and compare with each other:\n",
    "\n",
    "- All Fandango's ratings for popular movies released in 2015.\n",
    "- All Fandango's ratings for popular movies released in 2016.\n",
    "\n",
    "The term \"popular\" is vague and we need to define it with precision before continuing. We'll use Hickey's benchmark of 30 fan ratings and consider a movie as \"popular\" only if it has 30 fan ratings or more on Fandango's website."
   ]
  },
  {
   "cell_type": "markdown",
   "id": "c8996b58",
   "metadata": {},
   "source": [
    "Great, now let's isolate the movies in the other data set."
   ]
  },
  {
   "cell_type": "code",
   "execution_count": 3,
   "id": "8ea8febc",
   "metadata": {},
   "outputs": [
    {
     "data": {
      "text/plain": [
       "0"
      ]
     },
     "execution_count": 3,
     "metadata": {},
     "output_type": "execute_result"
    }
   ],
   "source": [
    "sum(fandango_previous['Fandango_votes'] < 30)"
   ]
  },
  {
   "cell_type": "markdown",
   "id": "0e5798a3",
   "metadata": {},
   "source": [
    "We can see that all the movies have more than 30 reviews."
   ]
  },
  {
   "cell_type": "markdown",
   "id": "e7b1d320",
   "metadata": {},
   "source": [
    "We'll isolate the movies released in 2015.\n",
    "For `fandango previous` we need to extract the year values from `FILM` column, the pattern are `Film name (year:int)`. "
   ]
  },
  {
   "cell_type": "code",
   "execution_count": 4,
   "id": "34ee00fc",
   "metadata": {},
   "outputs": [
    {
     "data": {
      "text/plain": [
       "2015    129\n",
       "2014     17\n",
       "Name: Year, dtype: int64"
      ]
     },
     "execution_count": 4,
     "metadata": {},
     "output_type": "execute_result"
    }
   ],
   "source": [
    "fandango_previous['FILM'].value_counts()\n",
    "pattern = r'\\((.*)\\)'\n",
    "fandango_previous['Year'] = fandango_previous['FILM'].str.extract(pattern, expand=False).astype(int)\n",
    "fandango_previous['Year'].value_counts()"
   ]
  },
  {
   "cell_type": "code",
   "execution_count": 5,
   "id": "ccb82dbf",
   "metadata": {},
   "outputs": [
    {
     "data": {
      "text/plain": [
       "2015    129\n",
       "Name: Year, dtype: int64"
      ]
     },
     "execution_count": 5,
     "metadata": {},
     "output_type": "execute_result"
    }
   ],
   "source": [
    "fandango_2015 = fandango_previous[fandango_previous['Year'] == 2015].copy()\n",
    "fandango_2015['Year'].value_counts()"
   ]
  },
  {
   "cell_type": "markdown",
   "id": "185cfea9",
   "metadata": {},
   "source": [
    "Now we'll isolate the movies released in 2016 in the other data set."
   ]
  },
  {
   "cell_type": "code",
   "execution_count": 6,
   "id": "b2effebb",
   "metadata": {},
   "outputs": [
    {
     "data": {
      "text/plain": [
       "2016    191\n",
       "2017     23\n",
       "Name: year, dtype: int64"
      ]
     },
     "execution_count": 6,
     "metadata": {},
     "output_type": "execute_result"
    }
   ],
   "source": [
    "fandango_after['year'].value_counts()"
   ]
  },
  {
   "cell_type": "code",
   "execution_count": 7,
   "id": "d3edc8c7",
   "metadata": {},
   "outputs": [
    {
     "data": {
      "text/plain": [
       "2016    191\n",
       "Name: year, dtype: int64"
      ]
     },
     "execution_count": 7,
     "metadata": {},
     "output_type": "execute_result"
    }
   ],
   "source": [
    "fandango_2016 = fandango_after[fandango_after['year'] == 2016].copy()\n",
    "fandango_2016['year'].value_counts()"
   ]
  },
  {
   "cell_type": "markdown",
   "id": "3a25a5cb",
   "metadata": {},
   "source": [
    "## Comparing Distribution Shapes for 2015 and 2016"
   ]
  },
  {
   "cell_type": "markdown",
   "id": "3293086c",
   "metadata": {},
   "source": [
    "After all these preliminary steps, we can now start analyzing the two samples we isolated before. Once again, our goal is to determine whether there's any difference between Fandango's ratings for popular movies in 2015 and Fandango's ratings for popular movies in 2016."
   ]
  },
  {
   "cell_type": "code",
   "execution_count": 8,
   "id": "6e99c7ae",
   "metadata": {},
   "outputs": [],
   "source": [
    "import matplotlib.pyplot as plt\n",
    "import numpy as np\n",
    "%matplotlib inline"
   ]
  },
  {
   "cell_type": "code",
   "execution_count": 9,
   "id": "8ab7ca2a",
   "metadata": {
    "scrolled": true
   },
   "outputs": [
    {
     "data": {
      "image/png": "[encoded data removed]",
      "text/plain": [
       "<Figure size 648x324 with 1 Axes>"
      ]
     },
     "metadata": {},
     "output_type": "display_data"
    }
   ],
   "source": [
    "plt.style.use('fivethirtyeight')\n",
    "plt.title('Distribution of movie ratings 2015 vs 2016')\n",
    "plt.xlabel('Ratings')\n",
    "plt.xlim(0, 5)\n",
    "plt.xticks(np.arange(0,5.5,0.5))\n",
    "fandango_2015['Fandango_Stars'].plot.kde(label = '2015', legend = True,figsize = (9,4.5))\n",
    "fandango_2016['fandango'].plot.kde(label = '2016', legend = True)\n",
    "plt.show()"
   ]
  },
  {
   "cell_type": "markdown",
   "id": "2b80fb2a",
   "metadata": {},
   "source": [
    "We can see that the distribution of the results tends to have high ratings (skewed to the right), this may be because the sampling of the data sets comes from popular movies. \n",
    "\n",
    "We see changes in ratings between the two time periods. Ratings in 2016 were slightly lower than in 2015. This is evidence that there was a change in movie ratings on Fandango. "
   ]
  },
  {
   "cell_type": "markdown",
   "id": "3c4b87c1",
   "metadata": {},
   "source": [
    "## Comparing Relative Frequencies\n",
    "\n",
    "While comparing the distributions with the help of the kernel density plots was a great start, we now need to analyze more granular information.\n",
    "\n",
    "Because the samples have a different number of movies.  We'll  use the tables of relative frequencies"
   ]
  },
  {
   "cell_type": "code",
   "execution_count": 10,
   "id": "2970c5f4",
   "metadata": {},
   "outputs": [
    {
     "data": {
      "text/plain": [
       "4.5    37.984496\n",
       "4.0    28.682171\n",
       "3.5    17.829457\n",
       "3.0     8.527132\n",
       "5.0     6.976744\n",
       "Name: Fandango_Stars, dtype: float64"
      ]
     },
     "execution_count": 10,
     "metadata": {},
     "output_type": "execute_result"
    }
   ],
   "source": [
    "fandango_2015['Fandango_Stars'].value_counts(normalize=True) *100"
   ]
  },
  {
   "cell_type": "code",
   "execution_count": 11,
   "id": "3927193d",
   "metadata": {},
   "outputs": [
    {
     "data": {
      "text/plain": [
       "4.0    40.314136\n",
       "4.5    24.607330\n",
       "3.5    24.083770\n",
       "3.0     7.329843\n",
       "2.5     3.141361\n",
       "5.0     0.523560\n",
       "Name: fandango, dtype: float64"
      ]
     },
     "execution_count": 11,
     "metadata": {},
     "output_type": "execute_result"
    }
   ],
   "source": [
    "fandango_2016['fandango'].value_counts(normalize=True) *100"
   ]
  },
  {
   "cell_type": "markdown",
   "id": "7cb8250f",
   "metadata": {},
   "source": [
    "In 2015 around 73.6% of the films obtained a high rating (between 4 and 5 stars). For 2016, the percentage of movies with a high rating was around 65.4%. We can see the slight difference that we saw with the previous graph. \n",
    "\n",
    "In 2016, less than 1% (0.54%) of the films obtained a 5-star rating, while in 2015 practically 7% obtained this rating.\n",
    "\n",
    "In 2016 the lowest rating was 2.5 stars, while in 2015 it was 3 stars. That could be indications of rounding problems presented by the platform."
   ]
  },
  {
   "cell_type": "markdown",
   "id": "e6d46217",
   "metadata": {},
   "source": [
    "## Determining the Direction of the Change\n",
    "\n",
    "We confirmed with the two tables before that there is indeed a clear difference between the two distributions. However, the direction of the difference is not as clear as it was on the kernel density plots."
   ]
  },
  {
   "cell_type": "code",
   "execution_count": 12,
   "id": "7343f4b8",
   "metadata": {},
   "outputs": [],
   "source": [
    "stars_2015 = fandango_2015['Fandango_Stars']\n",
    "statistics_2015 = [stars_2015.mean(), stars_2015.median(), stars_2015.mode()] "
   ]
  },
  {
   "cell_type": "code",
   "execution_count": 13,
   "id": "0afb399b",
   "metadata": {},
   "outputs": [],
   "source": [
    "stars_2016 = fandango_2016['fandango']\n",
    "statistics_2016 = [stars_2016.mean(), stars_2016.median(), stars_2016.mode()] "
   ]
  },
  {
   "cell_type": "code",
   "execution_count": 16,
   "id": "015f1def",
   "metadata": {},
   "outputs": [
    {
     "data": {
      "image/png": "[encoded data removed]",
      "text/plain": [
       "<Figure size 432x288 with 1 Axes>"
      ]
     },
     "metadata": {},
     "output_type": "display_data"
    }
   ],
   "source": [
    "labels = ['mean', 'median', 'mode']\n",
    "x = np.arange(len(labels))  \n",
    "width = 0.35\n",
    "\n",
    "fig, ax = plt.subplots()\n",
    "bar_2015 = ax.bar(x - width/2, statistics_2015, width, label='2015')\n",
    "bar_2016 = ax.bar(x + width/2, statistics_2016, width, label='2016')\n",
    "\n",
    "\n",
    "ax.set_ylabel('Stars')\n",
    "ax.set_title('Comparing summary statistics: 2015 vs 2016')\n",
    "ax.set_xticks(x)\n",
    "ax.set_xticklabels(labels)\n",
    "ax.legend()\n",
    "\n",
    "plt.show()"
   ]
  },
  {
   "cell_type": "markdown",
   "id": "4f0c52b7",
   "metadata": {},
   "source": [
    "We can see that the median is the same for the two distributions. For the mean and the mode we can see that the statistics are slightly lower. Which tells us that on average 2016 movies had slightly lower ratings."
   ]
  },
  {
   "cell_type": "markdown",
   "id": "5d7abf88",
   "metadata": {},
   "source": [
    "## Conclution\n"
   ]
  },
  {
   "cell_type": "code",
   "execution_count": null,
   "id": "e2fbd0e4",
   "metadata": {},
   "outputs": [],
   "source": []
  }
 ],
 "metadata": {
  "kernelspec": {
   "display_name": "Python 3",
   "language": "python",
   "name": "python3"
  },
  "language_info": {
   "codemirror_mode": {
    "name": "ipython",
    "version": 3
   },
   "file_extension": ".py",
   "mimetype": "text/x-python",
   "name": "python",
   "nbconvert_exporter": "python",
   "pygments_lexer": "ipython3",
   "version": "3.8.8"
  }
 },
 "nbformat": 4,
 "nbformat_minor": 5
}
