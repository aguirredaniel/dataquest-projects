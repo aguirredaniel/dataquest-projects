{
 "cells": [
  {
   "cell_type": "markdown",
   "id": "e13757d6",
   "metadata": {},
   "source": [
    "# Investigating Fandango Movie Ratings\n",
    "\n",
    "Both distributions above are strongly left skewed, suggesting that movie ratings on Fandango are generally high or very high. We can see there's no rating under 2 stars in the sample Hickey analyzed. The distribution of displayed ratings is clearly shifted to the right compared to the actual rating distribution, suggesting strongly that Fandango inflates the ratings under the hood.\n",
    "\n",
    "Fandango's officials replied that the biased rounding off was caused by a bug in their system rather than being intentional, and they promised to fix the bug as soon as possible. Presumably, this has already happened, although we can't tell for sure since the actual rating value doesn't seem to be displayed anymore in the pages' HTML.\n",
    "\n",
    "In this project, we'll analyze more recent movie ratings data to determine whether there has been any change in Fandango's rating system after Hickey's analysis."
   ]
  },
  {
   "cell_type": "markdown",
   "id": "90f1561d",
   "metadata": {},
   "source": [
    "## Understanding the Data\n",
    "\n",
    "One of the best ways to figure out whether there has been any change in Fandango's rating system after Hickey's analysis is to compare the system's characteristics previous and after the analysis.\n",
    "\n",
    "- Walt Hickey made the data he analyzed publicly available on [GitHub](https://github.com/fivethirtyeight/data/tree/master/fandango). We'll use the data he collected to analyze the characteristics of Fandango's rating system previous to his analysis.\n",
    "- One of Dataquest's team members collected movie ratings data for movies released in 2016 and 2017. The data is publicly available on [GitHub](https://github.com/mircealex/Movie_ratings_2016_17) and we'll use it to analyze the rating system's characteristics after Hickey's analysis.\n"
   ]
  },
  {
   "cell_type": "code",
   "execution_count": 1,
   "id": "4dcb607d",
   "metadata": {},
   "outputs": [],
   "source": [
    "import pandas as pd\n",
    "fandango_score_comparison = pd.read_csv('fandango_score_comparison.csv')\n",
    "movie_ratings_16_17 = pd.read_csv('movie_ratings_16_17.csv')"
   ]
  },
  {
   "cell_type": "code",
   "execution_count": 2,
   "id": "4c6f6bde",
   "metadata": {},
   "outputs": [],
   "source": [
    "fandango_previous = fandango_score_comparison[['FILM', 'Fandango_Stars', 'Fandango_Ratingvalue', 'Fandango_votes', 'Fandango_Difference']].copy()\n",
    "fandango_after = movie_ratings_16_17[['movie', 'year', 'fandango']].copy()"
   ]
  },
  {
   "cell_type": "markdown",
   "id": "4db32836",
   "metadata": {},
   "source": [
    "This could be due to the fact that the dataset has specific sampling characteristics:\n",
    "For Fandango sampling have:\n",
    "- At least 30 fan reviews on Fandango\n",
    "- Contains a rating or score in Rotten Tomatoes, RT User, Metacritic, Metacritic User and IMDb.\n",
    "- The data from Fandango was pulled on Aug. 24, 2015\n",
    "\n",
    "For Movie ratings have:\n",
    "- Most popular movies (with a significant number of votes).\n",
    "- Mostly for movies released in 2016 \n",
    "\n",
    "It's unlikely to be representative of our population of interest."
   ]
  },
  {
   "cell_type": "markdown",
   "id": "20ccef48",
   "metadata": {},
   "source": [
    "## Changing the Goal of our Analysis\n",
    "\n",
    "At this point, we can either collect new data or change our the goal of our analysis. We choose the latter and place some limitations on our initial goal.\n",
    "\n",
    "Instead of trying to determine whether there has been any change in Fandango's rating system after Hickey's analysis, our new goal is to determine whether there's any difference between Fandango's ratings for popular movies in 2015 and Fandango's ratings for popular movies in 2016. This new goal should also be a fairly good proxy for our initial goal."
   ]
  },
  {
   "cell_type": "markdown",
   "id": "2fd4b8c5",
   "metadata": {},
   "source": [
    "## 4. Isolating the Samples We Need\n",
    "With the new goal, we now have two populations that we want to describe and compare with each other:\n",
    "\n",
    "- All Fandango's ratings for popular movies released in 2015.\n",
    "- All Fandango's ratings for popular movies released in 2016.\n",
    "\n",
    "The term \"popular\" is vague and we need to define it with precision before continuing. We'll use Hickey's benchmark of 30 fan ratings and consider a movie as \"popular\" only if it has 30 fan ratings or more on Fandango's website."
   ]
  },
  {
   "cell_type": "markdown",
   "id": "c8996b58",
   "metadata": {},
   "source": [
    "Great, now let's isolate the movies in the other data set."
   ]
  },
  {
   "cell_type": "code",
   "execution_count": 3,
   "id": "8ea8febc",
   "metadata": {},
   "outputs": [
    {
     "data": {
      "text/plain": [
       "0"
      ]
     },
     "execution_count": 3,
     "metadata": {},
     "output_type": "execute_result"
    }
   ],
   "source": [
    "sum(fandango_previous['Fandango_votes'] < 30)"
   ]
  },
  {
   "cell_type": "markdown",
   "id": "0e5798a3",
   "metadata": {},
   "source": [
    "We can see that all the movies have more than 30 reviews."
   ]
  },
  {
   "cell_type": "markdown",
   "id": "e7b1d320",
   "metadata": {},
   "source": [
    "We'll isolate the movies released in 2015.\n",
    "For `fandango previous` we need to extract the year values from `FILM` column, the pattern are `Film name (year:int)`. "
   ]
  },
  {
   "cell_type": "code",
   "execution_count": 4,
   "id": "34ee00fc",
   "metadata": {},
   "outputs": [
    {
     "data": {
      "text/plain": [
       "2015    129\n",
       "2014     17\n",
       "Name: Year, dtype: int64"
      ]
     },
     "execution_count": 4,
     "metadata": {},
     "output_type": "execute_result"
    }
   ],
   "source": [
    "fandango_previous['FILM'].value_counts()\n",
    "pattern = r'\\((.*)\\)'\n",
    "fandango_previous['Year'] = fandango_previous['FILM'].str.extract(pattern, expand=False).astype(int)\n",
    "fandango_previous['Year'].value_counts()"
   ]
  },
  {
   "cell_type": "code",
   "execution_count": 5,
   "id": "ccb82dbf",
   "metadata": {},
   "outputs": [
    {
     "data": {
      "text/plain": [
       "2015    129\n",
       "Name: Year, dtype: int64"
      ]
     },
     "execution_count": 5,
     "metadata": {},
     "output_type": "execute_result"
    }
   ],
   "source": [
    "fandango_2015 = fandango_previous[fandango_previous['Year'] == 2015].copy()\n",
    "fandango_2015['Year'].value_counts()"
   ]
  },
  {
   "cell_type": "markdown",
   "id": "185cfea9",
   "metadata": {},
   "source": [
    "Now we'll isolate the movies released in 2016 in the other data set."
   ]
  },
  {
   "cell_type": "code",
   "execution_count": 6,
   "id": "b2effebb",
   "metadata": {},
   "outputs": [
    {
     "data": {
      "text/plain": [
       "2016    191\n",
       "2017     23\n",
       "Name: year, dtype: int64"
      ]
     },
     "execution_count": 6,
     "metadata": {},
     "output_type": "execute_result"
    }
   ],
   "source": [
    "fandango_after['year'].value_counts()"
   ]
  },
  {
   "cell_type": "code",
   "execution_count": 7,
   "id": "d3edc8c7",
   "metadata": {},
   "outputs": [
    {
     "data": {
      "text/plain": [
       "2016    191\n",
       "Name: year, dtype: int64"
      ]
     },
     "execution_count": 7,
     "metadata": {},
     "output_type": "execute_result"
    }
   ],
   "source": [
    "fandango_2016 = fandango_after[fandango_after['year'] == 2016].copy()\n",
    "fandango_2016['year'].value_counts()"
   ]
  },
  {
   "cell_type": "markdown",
   "id": "39461936",
   "metadata": {},
   "source": [
    "## Comparing Distribution Shapes for 2015 and 2016"
   ]
  },
  {
   "cell_type": "markdown",
   "id": "0f92439b",
   "metadata": {},
   "source": [
    "After all these preliminary steps, we can now start analyzing the two samples we isolated before. Once again, our goal is to determine whether there's any difference between Fandango's ratings for popular movies in 2015 and Fandango's ratings for popular movies in 2016."
   ]
  },
  {
   "cell_type": "code",
   "execution_count": 8,
   "id": "0a9c97f0",
   "metadata": {},
   "outputs": [],
   "source": [
    "import matplotlib.pyplot as plt\n",
    "import numpy as np\n",
    "%matplotlib inline"
   ]
  },
  {
   "cell_type": "code",
   "execution_count": 14,
   "id": "489a2a3b",
   "metadata": {
    "scrolled": true
   },
   "outputs": [
    {
     "data": {
      "image/png": "[encoded data removed]",
      "text/plain": [
       "<Figure size 576x360 with 1 Axes>"
      ]
     },
     "metadata": {},
     "output_type": "display_data"
    }
   ],
   "source": [
    "plt.style.use('fivethirtyeight')\n",
    "plt.title('Distribution of movie ratings 2015 vs 2016')\n",
    "plt.xlabel('Ratings')\n",
    "plt.xlim(0, 5)\n",
    "plt.xticks(np.arange(0,5.5,0.5))\n",
    "fandango_2015['Fandango_Stars'].plot.kde(label = '2015', legend = True,figsize = (8,5))\n",
    "fandango_2016['fandango'].plot.kde(label = '2016', legend = True)\n",
    "plt.show()"
   ]
  },
  {
   "cell_type": "markdown",
   "id": "fae5dd22",
   "metadata": {},
   "source": [
    "We can see that the distribution of the results tends to have high ratings (skewed to the right), this may be because the sampling of the data sets comes from popular movies. \n",
    "\n",
    "We see changes in ratings between the two time periods. Ratings in 2016 were slightly lower than in 2015. This is evidence that there was a change in movie ratings on Fandango. "
   ]
  }
 ],
 "metadata": {
  "kernelspec": {
   "display_name": "Python 3",
   "language": "python",
   "name": "python3"
  },
  "language_info": {
   "codemirror_mode": {
    "name": "ipython",
    "version": 3
   },
   "file_extension": ".py",
   "mimetype": "text/x-python",
   "name": "python",
   "nbconvert_exporter": "python",
   "pygments_lexer": "ipython3",
   "version": "3.8.8"
  }
 },
 "nbformat": 4,
 "nbformat_minor": 5
}
