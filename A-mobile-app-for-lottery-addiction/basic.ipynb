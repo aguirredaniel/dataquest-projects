{
 "cells": [
  {
   "cell_type": "markdown",
   "id": "f302e261",
   "metadata": {},
   "source": [
    "# A mobile app for lottery addiction\n",
    "\n",
    "A medical institute that aims to prevent and treat gambling addictions wants to build a dedicated mobile app to help lottery addicts better estimate their chances of winning. The institute has a team of engineers that will build the app, but they need us to create the logical core of the app and calculate probabilities.\n",
    "\n",
    "For the first version of the app, they want us to focus on the 6/49 lottery and build functions that enable users to answer questions like:\n",
    "\n",
    "- What is the probability of winning the big prize with a single ticket?\n",
    "- What is the probability of winning the big prize if we play 40 different tickets (or any other number)?\n",
    "- What is the probability of having at least five (or four, or three, or two) winning numbers on a single ticket?"
   ]
  },
  {
   "cell_type": "markdown",
   "id": "75546cec",
   "metadata": {},
   "source": [
    "### Core Functions\n",
    "\n",
    "In the 6/49 lottery, six numbers are drawn from a set of 49 numbers that range from 1 to 49. The drawing is done without replacement, which means once a number is drawn, it's not put back in the set.\n",
    "\n",
    "We'll use two principal function for calculate `factorial` and `combinations`."
   ]
  },
  {
   "cell_type": "code",
   "execution_count": 3,
   "id": "4ce4e39a",
   "metadata": {},
   "outputs": [],
   "source": [
    "def factorial(n):\n",
    "    \"\"\"\n",
    "    Calculate the factorial of n (n!)\n",
    "    Args:\n",
    "        n: numeric value\n",
    "    Returns:\n",
    "        The n!.\n",
    "    Examples\n",
    "    ________\n",
    "    >>> factorial(5)\n",
    "    120\n",
    "    \"\"\"\n",
    "    if n == 2:\n",
    "        return 2\n",
    "    return n * factorial(n - 1)"
   ]
  },
  {
   "cell_type": "code",
   "execution_count": 4,
   "id": "0ba9fcaa",
   "metadata": {},
   "outputs": [],
   "source": [
    "def combinations(n, k):\n",
    "    \"\"\"\n",
    "    Calculate the combinations of n taking k objects.\n",
    "    Args:\n",
    "        n: number represent a group.\n",
    "        k: number of takin objectcs from group.\n",
    "    Returns:\n",
    "        The nCk.\n",
    "    Examples\n",
    "    ________\n",
    "    >>> combinations(52, 5)\n",
    "    2598960.0\n",
    "    \"\"\"\n",
    "    return factorial(n) / (factorial(k) * factorial(n - k))\n"
   ]
  },
  {
   "cell_type": "code",
   "execution_count": null,
   "id": "d3c2a113",
   "metadata": {},
   "outputs": [],
   "source": []
  },
  {
   "cell_type": "code",
   "execution_count": 17,
   "id": "091a4b79",
   "metadata": {},
   "outputs": [],
   "source": [
    "def one_ticket_probability(numbers):\n",
    "    outcomes = combinations(49, 6)\n",
    "    successful_outcome = 1 / outcomes\n",
    "    percentage_win = successful_outcome * 100\n",
    "    print(f'The probability of the combination {numbers} winning the grand prize is {percentage_win} % (1 / i)')    "
   ]
  },
  {
   "cell_type": "code",
   "execution_count": 18,
   "id": "7cbefb15",
   "metadata": {},
   "outputs": [
    {
     "name": "stdout",
     "output_type": "stream",
     "text": [
      "7.151123842018516e-08\n",
      "The probability of the combination ['13', '17', '19', '10', '30', '43'] winning the grand prize is 7.151123842018516e-06 % (1 / 0)\n"
     ]
    }
   ],
   "source": [
    "one_ticket_probability(['13', '17', '19', '10', '30', '43'])"
   ]
  },
  {
   "cell_type": "code",
   "execution_count": 13,
   "id": "296c0c41",
   "metadata": {},
   "outputs": [
    {
     "name": "stdout",
     "output_type": "stream",
     "text": [
      "The probability of the combination ['3', '1', '4', '1', '6', '5'] winning the grand prize is 7.151123842018516e-06 %.\n"
     ]
    }
   ],
   "source": [
    "one_ticket_probability(['3', '1', '4', '1', '6', '5'])"
   ]
  }
 ],
 "metadata": {
  "kernelspec": {
   "display_name": "Python 3",
   "language": "python",
   "name": "python3"
  },
  "language_info": {
   "codemirror_mode": {
    "name": "ipython",
    "version": 3
   },
   "file_extension": ".py",
   "mimetype": "text/x-python",
   "name": "python",
   "nbconvert_exporter": "python",
   "pygments_lexer": "ipython3",
   "version": "3.8.8"
  }
 },
 "nbformat": 4,
 "nbformat_minor": 5
}
