{
 "cells": [
  {
   "cell_type": "markdown",
   "id": "f302e261",
   "metadata": {},
   "source": [
    "# A mobile app for lottery addiction\n",
    "\n",
    "A medical institute that aims to prevent and treat gambling addictions wants to build a dedicated mobile app to help lottery addicts better estimate their chances of winning. The institute has a team of engineers that will build the app, but they need us to create the logical core of the app and calculate probabilities.\n",
    "\n",
    "For the first version of the app, they want us to focus on the 6/49 lottery and build functions that enable users to answer questions like:\n",
    "\n",
    "- What is the probability of winning the big prize with a single ticket?\n",
    "- What is the probability of winning the big prize if we play 40 different tickets (or any other number)?\n",
    "- What is the probability of having at least five (or four, or three, or two) winning numbers on a single ticket?"
   ]
  },
  {
   "cell_type": "markdown",
   "id": "fc987888",
   "metadata": {},
   "source": [
    "### Core Functions\n",
    "\n",
    "In the 6/49 lottery, six numbers are drawn from a set of 49 numbers that range from 1 to 49. The drawing is done without replacement, which means once a number is drawn, it's not put back in the set.\n",
    "\n",
    "We'll use two principal function for calculate `factorial` and `combinations`."
   ]
  },
  {
   "cell_type": "code",
   "execution_count": 23,
   "id": "5c0445fe",
   "metadata": {},
   "outputs": [],
   "source": [
    "def factorial(n):\n",
    "    \"\"\"\n",
    "    Calculate the factorial of n (n!)\n",
    "    Args:\n",
    "        n: numeric value\n",
    "    Returns:\n",
    "        The n!.\n",
    "    Examples\n",
    "    ________\n",
    "    >>> factorial(5)\n",
    "    120\n",
    "    \"\"\"\n",
    "    if n == 1:\n",
    "        return 1\n",
    "    return n * factorial(n - 1)"
   ]
  },
  {
   "cell_type": "code",
   "execution_count": 2,
   "id": "93d0cb26",
   "metadata": {},
   "outputs": [],
   "source": [
    "def combinations(n, k):\n",
    "    \"\"\"\n",
    "    Calculate the combinations of n taking k objects.\n",
    "    Args:\n",
    "        n: number represent a group.\n",
    "        k: number of takin objectcs from group.\n",
    "    Returns:\n",
    "        The nCk.\n",
    "    Examples\n",
    "    ________\n",
    "    >>> combinations(52, 5)\n",
    "    2598960.0\n",
    "    \"\"\"\n",
    "    return factorial(n) / (factorial(k) * factorial(n - k))\n"
   ]
  },
  {
   "cell_type": "markdown",
   "id": "57b92b61",
   "metadata": {},
   "source": [
    "##  One-ticket Probability\n",
    "We discussed with the engineering team of the medical institute, and they told us we need to be aware of the following details when we write the function:\n",
    "\n",
    "- Inside the app, the user inputs six different numbers from 1 to 49.\n",
    "- Under the hood, the six numbers will come as a Python list, which will serve as the single input to our function.\n",
    "- The engineering team wants the function to print the probability value in a friendly way — in a way that people without any probability training are able to understand."
   ]
  },
  {
   "cell_type": "code",
   "execution_count": 3,
   "id": "619d6522",
   "metadata": {},
   "outputs": [],
   "source": [
    "def one_ticket_probability(numbers):\n",
    "    outcomes = combinations(49, 6)\n",
    "    successful_outcome = 1 / outcomes\n",
    "    percentage_win = successful_outcome * 100\n",
    "    print(f'The probability of the numbers {numbers} winning the grand prize is {percentage_win:.6f}%.')\n",
    "    print(f'You have 1 in  {outcomes:,} chances to win.')"
   ]
  },
  {
   "cell_type": "code",
   "execution_count": 4,
   "id": "d30045be",
   "metadata": {},
   "outputs": [
    {
     "name": "stdout",
     "output_type": "stream",
     "text": [
      "The probability of the numbers ['13', '17', '19', '10', '30', '43'] winning the grand prize is 0.000007%.\n",
      "You have 1 in  13,983,816.0 chances to win.\n"
     ]
    }
   ],
   "source": [
    "one_ticket_probability(['13', '17', '19', '10', '30', '43'])"
   ]
  },
  {
   "cell_type": "code",
   "execution_count": 5,
   "id": "0dfd4b7d",
   "metadata": {},
   "outputs": [
    {
     "name": "stdout",
     "output_type": "stream",
     "text": [
      "The probability of the numbers ['3', '1', '4', '1', '6', '5'] winning the grand prize is 0.000007%.\n",
      "You have 1 in  13,983,816.0 chances to win.\n"
     ]
    }
   ],
   "source": [
    "one_ticket_probability(['3', '1', '4', '1', '6', '5'])"
   ]
  },
  {
   "cell_type": "markdown",
   "id": "c3e613fd",
   "metadata": {},
   "source": [
    "## Historical Data Check for Canada Lottery\n",
    "Users should also be able to compare their ticket against the historical lottery data in Canada and determine whether they would have ever won by now.\n",
    "\n",
    "We'll focus on exploring the historical data coming from the Canada 6/49 lottery. The data set can be downloaded from [Kaggle](https://www.kaggle.com/datascienceai/lottery-dataset) and it has the following structure:"
   ]
  },
  {
   "cell_type": "code",
   "execution_count": 6,
   "id": "a55987fc",
   "metadata": {},
   "outputs": [],
   "source": [
    "import pandas as pd\n",
    "lottery = pd.read_csv('649.csv')"
   ]
  },
  {
   "cell_type": "code",
   "execution_count": 7,
   "id": "2a887a87",
   "metadata": {},
   "outputs": [
    {
     "data": {
      "text/plain": [
       "(3665, 11)"
      ]
     },
     "execution_count": 7,
     "metadata": {},
     "output_type": "execute_result"
    }
   ],
   "source": [
    "lottery.shape"
   ]
  },
  {
   "cell_type": "code",
   "execution_count": 8,
   "id": "1f20bf1e",
   "metadata": {},
   "outputs": [
    {
     "data": {
      "text/html": [
       "<div>\n",
       "<style scoped>\n",
       "    .dataframe tbody tr th:only-of-type {\n",
       "        vertical-align: middle;\n",
       "    }\n",
       "\n",
       "    .dataframe tbody tr th {\n",
       "        vertical-align: top;\n",
       "    }\n",
       "\n",
       "    .dataframe thead th {\n",
       "        text-align: right;\n",
       "    }\n",
       "</style>\n",
       "<table border=\"1\" class=\"dataframe\">\n",
       "  <thead>\n",
       "    <tr style=\"text-align: right;\">\n",
       "      <th></th>\n",
       "      <th>PRODUCT</th>\n",
       "      <th>DRAW NUMBER</th>\n",
       "      <th>SEQUENCE NUMBER</th>\n",
       "      <th>DRAW DATE</th>\n",
       "      <th>NUMBER DRAWN 1</th>\n",
       "      <th>NUMBER DRAWN 2</th>\n",
       "      <th>NUMBER DRAWN 3</th>\n",
       "      <th>NUMBER DRAWN 4</th>\n",
       "      <th>NUMBER DRAWN 5</th>\n",
       "      <th>NUMBER DRAWN 6</th>\n",
       "      <th>BONUS NUMBER</th>\n",
       "    </tr>\n",
       "  </thead>\n",
       "  <tbody>\n",
       "    <tr>\n",
       "      <th>0</th>\n",
       "      <td>649</td>\n",
       "      <td>1</td>\n",
       "      <td>0</td>\n",
       "      <td>6/12/1982</td>\n",
       "      <td>3</td>\n",
       "      <td>11</td>\n",
       "      <td>12</td>\n",
       "      <td>14</td>\n",
       "      <td>41</td>\n",
       "      <td>43</td>\n",
       "      <td>13</td>\n",
       "    </tr>\n",
       "    <tr>\n",
       "      <th>1</th>\n",
       "      <td>649</td>\n",
       "      <td>2</td>\n",
       "      <td>0</td>\n",
       "      <td>6/19/1982</td>\n",
       "      <td>8</td>\n",
       "      <td>33</td>\n",
       "      <td>36</td>\n",
       "      <td>37</td>\n",
       "      <td>39</td>\n",
       "      <td>41</td>\n",
       "      <td>9</td>\n",
       "    </tr>\n",
       "    <tr>\n",
       "      <th>2</th>\n",
       "      <td>649</td>\n",
       "      <td>3</td>\n",
       "      <td>0</td>\n",
       "      <td>6/26/1982</td>\n",
       "      <td>1</td>\n",
       "      <td>6</td>\n",
       "      <td>23</td>\n",
       "      <td>24</td>\n",
       "      <td>27</td>\n",
       "      <td>39</td>\n",
       "      <td>34</td>\n",
       "    </tr>\n",
       "    <tr>\n",
       "      <th>3</th>\n",
       "      <td>649</td>\n",
       "      <td>4</td>\n",
       "      <td>0</td>\n",
       "      <td>7/3/1982</td>\n",
       "      <td>3</td>\n",
       "      <td>9</td>\n",
       "      <td>10</td>\n",
       "      <td>13</td>\n",
       "      <td>20</td>\n",
       "      <td>43</td>\n",
       "      <td>34</td>\n",
       "    </tr>\n",
       "    <tr>\n",
       "      <th>4</th>\n",
       "      <td>649</td>\n",
       "      <td>5</td>\n",
       "      <td>0</td>\n",
       "      <td>7/10/1982</td>\n",
       "      <td>5</td>\n",
       "      <td>14</td>\n",
       "      <td>21</td>\n",
       "      <td>31</td>\n",
       "      <td>34</td>\n",
       "      <td>47</td>\n",
       "      <td>45</td>\n",
       "    </tr>\n",
       "  </tbody>\n",
       "</table>\n",
       "</div>"
      ],
      "text/plain": [
       "   PRODUCT  DRAW NUMBER  SEQUENCE NUMBER  DRAW DATE  NUMBER DRAWN 1  \\\n",
       "0      649            1                0  6/12/1982               3   \n",
       "1      649            2                0  6/19/1982               8   \n",
       "2      649            3                0  6/26/1982               1   \n",
       "3      649            4                0   7/3/1982               3   \n",
       "4      649            5                0  7/10/1982               5   \n",
       "\n",
       "   NUMBER DRAWN 2  NUMBER DRAWN 3  NUMBER DRAWN 4  NUMBER DRAWN 5  \\\n",
       "0              11              12              14              41   \n",
       "1              33              36              37              39   \n",
       "2               6              23              24              27   \n",
       "3               9              10              13              20   \n",
       "4              14              21              31              34   \n",
       "\n",
       "   NUMBER DRAWN 6  BONUS NUMBER  \n",
       "0              43            13  \n",
       "1              41             9  \n",
       "2              39            34  \n",
       "3              43            34  \n",
       "4              47            45  "
      ]
     },
     "execution_count": 8,
     "metadata": {},
     "output_type": "execute_result"
    }
   ],
   "source": [
    "lottery.head()"
   ]
  },
  {
   "cell_type": "code",
   "execution_count": 9,
   "id": "78eb4497",
   "metadata": {},
   "outputs": [
    {
     "data": {
      "text/html": [
       "<div>\n",
       "<style scoped>\n",
       "    .dataframe tbody tr th:only-of-type {\n",
       "        vertical-align: middle;\n",
       "    }\n",
       "\n",
       "    .dataframe tbody tr th {\n",
       "        vertical-align: top;\n",
       "    }\n",
       "\n",
       "    .dataframe thead th {\n",
       "        text-align: right;\n",
       "    }\n",
       "</style>\n",
       "<table border=\"1\" class=\"dataframe\">\n",
       "  <thead>\n",
       "    <tr style=\"text-align: right;\">\n",
       "      <th></th>\n",
       "      <th>PRODUCT</th>\n",
       "      <th>DRAW NUMBER</th>\n",
       "      <th>SEQUENCE NUMBER</th>\n",
       "      <th>DRAW DATE</th>\n",
       "      <th>NUMBER DRAWN 1</th>\n",
       "      <th>NUMBER DRAWN 2</th>\n",
       "      <th>NUMBER DRAWN 3</th>\n",
       "      <th>NUMBER DRAWN 4</th>\n",
       "      <th>NUMBER DRAWN 5</th>\n",
       "      <th>NUMBER DRAWN 6</th>\n",
       "      <th>BONUS NUMBER</th>\n",
       "    </tr>\n",
       "  </thead>\n",
       "  <tbody>\n",
       "    <tr>\n",
       "      <th>3660</th>\n",
       "      <td>649</td>\n",
       "      <td>3587</td>\n",
       "      <td>0</td>\n",
       "      <td>6/6/2018</td>\n",
       "      <td>10</td>\n",
       "      <td>15</td>\n",
       "      <td>23</td>\n",
       "      <td>38</td>\n",
       "      <td>40</td>\n",
       "      <td>41</td>\n",
       "      <td>35</td>\n",
       "    </tr>\n",
       "    <tr>\n",
       "      <th>3661</th>\n",
       "      <td>649</td>\n",
       "      <td>3588</td>\n",
       "      <td>0</td>\n",
       "      <td>6/9/2018</td>\n",
       "      <td>19</td>\n",
       "      <td>25</td>\n",
       "      <td>31</td>\n",
       "      <td>36</td>\n",
       "      <td>46</td>\n",
       "      <td>47</td>\n",
       "      <td>26</td>\n",
       "    </tr>\n",
       "    <tr>\n",
       "      <th>3662</th>\n",
       "      <td>649</td>\n",
       "      <td>3589</td>\n",
       "      <td>0</td>\n",
       "      <td>6/13/2018</td>\n",
       "      <td>6</td>\n",
       "      <td>22</td>\n",
       "      <td>24</td>\n",
       "      <td>31</td>\n",
       "      <td>32</td>\n",
       "      <td>34</td>\n",
       "      <td>16</td>\n",
       "    </tr>\n",
       "    <tr>\n",
       "      <th>3663</th>\n",
       "      <td>649</td>\n",
       "      <td>3590</td>\n",
       "      <td>0</td>\n",
       "      <td>6/16/2018</td>\n",
       "      <td>2</td>\n",
       "      <td>15</td>\n",
       "      <td>21</td>\n",
       "      <td>31</td>\n",
       "      <td>38</td>\n",
       "      <td>49</td>\n",
       "      <td>8</td>\n",
       "    </tr>\n",
       "    <tr>\n",
       "      <th>3664</th>\n",
       "      <td>649</td>\n",
       "      <td>3591</td>\n",
       "      <td>0</td>\n",
       "      <td>6/20/2018</td>\n",
       "      <td>14</td>\n",
       "      <td>24</td>\n",
       "      <td>31</td>\n",
       "      <td>35</td>\n",
       "      <td>37</td>\n",
       "      <td>48</td>\n",
       "      <td>17</td>\n",
       "    </tr>\n",
       "  </tbody>\n",
       "</table>\n",
       "</div>"
      ],
      "text/plain": [
       "      PRODUCT  DRAW NUMBER  SEQUENCE NUMBER  DRAW DATE  NUMBER DRAWN 1  \\\n",
       "3660      649         3587                0   6/6/2018              10   \n",
       "3661      649         3588                0   6/9/2018              19   \n",
       "3662      649         3589                0  6/13/2018               6   \n",
       "3663      649         3590                0  6/16/2018               2   \n",
       "3664      649         3591                0  6/20/2018              14   \n",
       "\n",
       "      NUMBER DRAWN 2  NUMBER DRAWN 3  NUMBER DRAWN 4  NUMBER DRAWN 5  \\\n",
       "3660              15              23              38              40   \n",
       "3661              25              31              36              46   \n",
       "3662              22              24              31              32   \n",
       "3663              15              21              31              38   \n",
       "3664              24              31              35              37   \n",
       "\n",
       "      NUMBER DRAWN 6  BONUS NUMBER  \n",
       "3660              41            35  \n",
       "3661              47            26  \n",
       "3662              34            16  \n",
       "3663              49             8  \n",
       "3664              48            17  "
      ]
     },
     "execution_count": 9,
     "metadata": {},
     "output_type": "execute_result"
    }
   ],
   "source": [
    "lottery.tail()"
   ]
  },
  {
   "cell_type": "markdown",
   "id": "1a4d3524",
   "metadata": {},
   "source": [
    "##  Function for Historical Data Check\n",
    "\n",
    "We're going to write a function that will enable users to compare their ticket against the historical lottery data in Canada and determine whether they would have ever won by now."
   ]
  },
  {
   "cell_type": "markdown",
   "id": "355098d9",
   "metadata": {},
   "source": [
    "We'll define a function that takes as input a row of the lottery dataframe and returns a set containing all the six winning numbers."
   ]
  },
  {
   "cell_type": "code",
   "execution_count": 10,
   "id": "20d73181",
   "metadata": {},
   "outputs": [],
   "source": [
    "def extract_numbers(row: pd.Series):\n",
    "    return {i for i in row[4:10]}"
   ]
  },
  {
   "cell_type": "code",
   "execution_count": 11,
   "id": "ababfc34",
   "metadata": {},
   "outputs": [
    {
     "data": {
      "text/plain": [
       "0        {3, 41, 11, 12, 43, 14}\n",
       "1        {33, 36, 37, 39, 8, 41}\n",
       "2         {1, 6, 39, 23, 24, 27}\n",
       "3         {3, 9, 10, 43, 13, 20}\n",
       "4        {34, 5, 14, 47, 21, 31}\n",
       "                  ...           \n",
       "3660    {38, 40, 41, 10, 15, 23}\n",
       "3661    {36, 46, 47, 19, 25, 31}\n",
       "3662     {32, 34, 6, 22, 24, 31}\n",
       "3663     {2, 38, 15, 49, 21, 31}\n",
       "3664    {35, 37, 14, 48, 24, 31}\n",
       "Length: 3665, dtype: object"
      ]
     },
     "execution_count": 11,
     "metadata": {},
     "output_type": "execute_result"
    }
   ],
   "source": [
    "winning_numbers = lottery.apply(extract_numbers, axis=1)\n",
    "winning_numbers"
   ]
  },
  {
   "cell_type": "code",
   "execution_count": 12,
   "id": "13d46d0a",
   "metadata": {},
   "outputs": [],
   "source": [
    "def check_historical_occurence(user_numbers:[int], winning_combinations:pd.Series):\n",
    "    numbers = set(user_numbers)\n",
    "    winning_matches = winning_combinations == numbers\n",
    "    count_matches = winning_matches.sum()\n",
    "    if count_matches:\n",
    "        print(f'In the past the combination {user_numbers:} occurred in the past {count_matches} time(s).')\n",
    "    else:\n",
    "        print(f'In the past the combination {user_numbers} never occurred in the past.')\n",
    "    \n",
    "    print('With the combination you selected, you have 1 in 13,983,816 possibilities to win the big price.')"
   ]
  },
  {
   "cell_type": "code",
   "execution_count": 13,
   "id": "8de6d51e",
   "metadata": {},
   "outputs": [
    {
     "name": "stdout",
     "output_type": "stream",
     "text": [
      "In the past the combination [3, 11, 12, 14, 41, 43] occurred in the past 1 time(s).\n",
      "With the combination you selected, you have 1 in 13,983,816 possibilities to win the big price.\n"
     ]
    }
   ],
   "source": [
    "check_historical_occurence([3, 11, 12, 14, 41, 43], winning_numbers)"
   ]
  },
  {
   "cell_type": "code",
   "execution_count": 14,
   "id": "bef2b279",
   "metadata": {},
   "outputs": [
    {
     "name": "stdout",
     "output_type": "stream",
     "text": [
      "In the past the combination [13, 17, 19, 30, 10, 30] never occurred in the past.\n",
      "With the combination you selected, you have 1 in 13,983,816 possibilities to win the big price.\n"
     ]
    }
   ],
   "source": [
    "check_historical_occurence([13, 17, 19, 30, 10, 30], winning_numbers)"
   ]
  },
  {
   "cell_type": "markdown",
   "id": "d67ec492",
   "metadata": {},
   "source": [
    "##  Multi-ticket Probability\n",
    "\n",
    "Lottery addicts usually play more than one ticket on a single drawing, thinking that this might increase their chances of winning significantly. Our purpose is to help them better estimate their chances of winning. We're going to write a function that will allow the users to calculate the chances of winning for any number of different tickets."
   ]
  },
  {
   "cell_type": "code",
   "execution_count": 17,
   "id": "93b48f0e",
   "metadata": {},
   "outputs": [],
   "source": [
    "def multi_ticket_probability(number_tickets:int):\n",
    "    outcomes = combinations(49, 6) \n",
    "    probability = number_tickets / outcomes\n",
    "    probability_presentable = probability * 100\n",
    "    \n",
    "    print(f'With {number_tickets:,} ticket(s) you have a probability of winning of {probability_presentable:.6f}%.') \n",
    "    print(f'You have {number_tickets:,} in  {outcomes:,} chances to win.')"
   ]
  },
  {
   "cell_type": "code",
   "execution_count": 18,
   "id": "42608650",
   "metadata": {},
   "outputs": [
    {
     "name": "stdout",
     "output_type": "stream",
     "text": [
      "With 1 ticket(s) you have a probability of winning of 0.000007%.\n",
      "You have 1 in  13,983,816.0 chances to win.\n",
      "\n",
      "---------------------------------------\n",
      "With 10 ticket(s) you have a probability of winning of 0.000072%.\n",
      "You have 10 in  13,983,816.0 chances to win.\n",
      "\n",
      "---------------------------------------\n",
      "With 100 ticket(s) you have a probability of winning of 0.000715%.\n",
      "You have 100 in  13,983,816.0 chances to win.\n",
      "\n",
      "---------------------------------------\n",
      "With 10,000 ticket(s) you have a probability of winning of 0.071511%.\n",
      "You have 10,000 in  13,983,816.0 chances to win.\n",
      "\n",
      "---------------------------------------\n",
      "With 1,000,000 ticket(s) you have a probability of winning of 7.151124%.\n",
      "You have 1,000,000 in  13,983,816.0 chances to win.\n",
      "\n",
      "---------------------------------------\n",
      "With 6,991,908 ticket(s) you have a probability of winning of 50.000000%.\n",
      "You have 6,991,908 in  13,983,816.0 chances to win.\n",
      "\n",
      "---------------------------------------\n",
      "With 13,983,816 ticket(s) you have a probability of winning of 100.000000%.\n",
      "You have 13,983,816 in  13,983,816.0 chances to win.\n",
      "\n",
      "---------------------------------------\n"
     ]
    }
   ],
   "source": [
    "test = [1, 10, 100, 10000, 1000000, 6991908, 13983816]\n",
    "\n",
    "for t in test:\n",
    "    multi_ticket_probability(t)\n",
    "    print('\\n---------------------------------------')"
   ]
  },
  {
   "cell_type": "markdown",
   "id": "4c0476ec",
   "metadata": {},
   "source": [
    "## Less Winning Numbers — Function"
   ]
  },
  {
   "cell_type": "markdown",
   "id": "a574b816",
   "metadata": {},
   "source": [
    "For extra context, in most 6/49 lotteries there are smaller prizes if a player's ticket match two, three, four, or five of the six numbers drawn. As a consequence, the users might be interested in knowing the probability of having two, three, four, or five winning numbers.\n",
    "\n",
    "These are the engineering details we'll need to be aware of:\n",
    "\n",
    "- Inside the app, the user inputs:\n",
    "  - six different numbers from 1 to 49; and\n",
    "  - an integer between 2 and 5 that represents the number of winning numbers expected\n",
    "- Our function prints information about the probability of having the inputted number of winning numbers."
   ]
  },
  {
   "cell_type": "code",
   "execution_count": 53,
   "id": "da3ce94b",
   "metadata": {},
   "outputs": [],
   "source": [
    "def probability_less_6(winning_numbers:int):\n",
    "    outcomes = combinations(49, 6)\n",
    "    \n",
    "    number_combinations = combinations(6, winning_numbers)\n",
    "    \n",
    "    non_winning_numbers = 49 - 6\n",
    "    remaining_object_take = 6 - winning_numbers\n",
    "    combinations_remaining = combinations(non_winning_numbers,remaining_object_take)\n",
    "    print()\n",
    "    successful_outcomes = number_combinations * combinations_remaining\n",
    "\n",
    "    probability = successful_outcomes / outcomes\n",
    "    probability_presentable = probability * 100\n",
    "    \n",
    "    scale_combinations = round(outcomes/successful_outcomes)    \n",
    "\n",
    "    \n",
    "    print(f'The probabilities that you have {winning_numbers} winning numbers are {probability_presentable:.6f}%.')\n",
    "    print(f'You have 1 in  {scale_combinations:,} chances to win.')"
   ]
  },
  {
   "cell_type": "code",
   "execution_count": 54,
   "id": "f994f75a",
   "metadata": {},
   "outputs": [
    {
     "name": "stdout",
     "output_type": "stream",
     "text": [
      "\n",
      "The probabilities that you have 2 winning numbers are 13.237803%.\n",
      "You have 1 in  1,851,150.0 chances to win.\n",
      "\n",
      "---------------------------------------\n",
      "\n",
      "The probabilities that you have 3 winning numbers are 1.765040%.\n",
      "You have 1 in  246,820.0 chances to win.\n",
      "\n",
      "---------------------------------------\n",
      "\n",
      "The probabilities that you have 4 winning numbers are 0.096862%.\n",
      "You have 1 in  13,545.0 chances to win.\n",
      "\n",
      "---------------------------------------\n",
      "\n",
      "The probabilities that you have 5 winning numbers are 0.001845%.\n",
      "You have 1 in  258.0 chances to win.\n",
      "\n",
      "---------------------------------------\n"
     ]
    }
   ],
   "source": [
    "test = [2, 3, 4, 5]\n",
    "\n",
    "for t in test:\n",
    "    probability_less_6(t)\n",
    "    print('\\n---------------------------------------')"
   ]
  }
 ],
 "metadata": {
  "kernelspec": {
   "display_name": "Python 3",
   "language": "python",
   "name": "python3"
  },
  "language_info": {
   "codemirror_mode": {
    "name": "ipython",
    "version": 3
   },
   "file_extension": ".py",
   "mimetype": "text/x-python",
   "name": "python",
   "nbconvert_exporter": "python",
   "pygments_lexer": "ipython3",
   "version": "3.8.8"
  }
 },
 "nbformat": 4,
 "nbformat_minor": 5
}
